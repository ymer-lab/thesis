{
 "cells": [
  {
   "cell_type": "code",
   "execution_count": 1,
   "id": "executive-tournament",
   "metadata": {},
   "outputs": [
    {
     "ename": "KeyError",
     "evalue": "'scale'",
     "output_type": "error",
     "traceback": [
      "\u001b[0;31m---------------------------------------------------------------------------\u001b[0m",
      "\u001b[0;31mKeyError\u001b[0m                                  Traceback (most recent call last)",
      "\u001b[0;32m<ipython-input-1-a1e6c264098f>\u001b[0m in \u001b[0;36m<module>\u001b[0;34m\u001b[0m\n\u001b[1;32m      2\u001b[0m \u001b[0;32mimport\u001b[0m \u001b[0mscipy\u001b[0m \u001b[0;32mas\u001b[0m \u001b[0msp\u001b[0m\u001b[0;34m\u001b[0m\u001b[0;34m\u001b[0m\u001b[0m\n\u001b[1;32m      3\u001b[0m \u001b[0;32mimport\u001b[0m \u001b[0mpandas\u001b[0m \u001b[0;32mas\u001b[0m \u001b[0mpd\u001b[0m\u001b[0;34m\u001b[0m\u001b[0;34m\u001b[0m\u001b[0m\n\u001b[0;32m----> 4\u001b[0;31m \u001b[0;32mimport\u001b[0m \u001b[0mmatplotlib\u001b[0m\u001b[0;34m.\u001b[0m\u001b[0mpyplot\u001b[0m \u001b[0;32mas\u001b[0m \u001b[0mplt\u001b[0m\u001b[0;34m\u001b[0m\u001b[0;34m\u001b[0m\u001b[0m\n\u001b[0m\u001b[1;32m      5\u001b[0m \u001b[0mget_ipython\u001b[0m\u001b[0;34m(\u001b[0m\u001b[0;34m)\u001b[0m\u001b[0;34m.\u001b[0m\u001b[0mrun_line_magic\u001b[0m\u001b[0;34m(\u001b[0m\u001b[0;34m'matplotlib'\u001b[0m\u001b[0;34m,\u001b[0m \u001b[0;34m'inline'\u001b[0m\u001b[0;34m)\u001b[0m\u001b[0;34m\u001b[0m\u001b[0;34m\u001b[0m\u001b[0m\n\u001b[1;32m      6\u001b[0m \u001b[0;32mimport\u001b[0m \u001b[0mseaborn\u001b[0m \u001b[0;32mas\u001b[0m \u001b[0msns\u001b[0m\u001b[0;34m\u001b[0m\u001b[0;34m\u001b[0m\u001b[0m\n",
      "\u001b[0;32m~/.local/lib/python3.7/site-packages/matplotlib/pyplot.py\u001b[0m in \u001b[0;36m<module>\u001b[0;34m\u001b[0m\n\u001b[1;32m     38\u001b[0m \u001b[0;32mfrom\u001b[0m \u001b[0mmatplotlib\u001b[0m \u001b[0;32mimport\u001b[0m \u001b[0mdocstring\u001b[0m\u001b[0;34m\u001b[0m\u001b[0;34m\u001b[0m\u001b[0m\n\u001b[1;32m     39\u001b[0m \u001b[0;32mfrom\u001b[0m \u001b[0mmatplotlib\u001b[0m\u001b[0;34m.\u001b[0m\u001b[0mbackend_bases\u001b[0m \u001b[0;32mimport\u001b[0m \u001b[0mFigureCanvasBase\u001b[0m\u001b[0;34m\u001b[0m\u001b[0;34m\u001b[0m\u001b[0m\n\u001b[0;32m---> 40\u001b[0;31m \u001b[0;32mfrom\u001b[0m \u001b[0mmatplotlib\u001b[0m\u001b[0;34m.\u001b[0m\u001b[0mfigure\u001b[0m \u001b[0;32mimport\u001b[0m \u001b[0mFigure\u001b[0m\u001b[0;34m,\u001b[0m \u001b[0mfigaspect\u001b[0m\u001b[0;34m\u001b[0m\u001b[0;34m\u001b[0m\u001b[0m\n\u001b[0m\u001b[1;32m     41\u001b[0m \u001b[0;32mfrom\u001b[0m \u001b[0mmatplotlib\u001b[0m\u001b[0;34m.\u001b[0m\u001b[0mgridspec\u001b[0m \u001b[0;32mimport\u001b[0m \u001b[0mGridSpec\u001b[0m\u001b[0;34m\u001b[0m\u001b[0;34m\u001b[0m\u001b[0m\n\u001b[1;32m     42\u001b[0m \u001b[0;32mfrom\u001b[0m \u001b[0mmatplotlib\u001b[0m \u001b[0;32mimport\u001b[0m \u001b[0mrcParams\u001b[0m\u001b[0;34m,\u001b[0m \u001b[0mrcParamsDefault\u001b[0m\u001b[0;34m,\u001b[0m \u001b[0mget_backend\u001b[0m\u001b[0;34m,\u001b[0m \u001b[0mrcParamsOrig\u001b[0m\u001b[0;34m\u001b[0m\u001b[0;34m\u001b[0m\u001b[0m\n",
      "\u001b[0;32m~/.local/lib/python3.7/site-packages/matplotlib/figure.py\u001b[0m in \u001b[0;36m<module>\u001b[0;34m\u001b[0m\n\u001b[1;32m     18\u001b[0m \u001b[0;34m\u001b[0m\u001b[0m\n\u001b[1;32m     19\u001b[0m \u001b[0;32mfrom\u001b[0m \u001b[0mmatplotlib\u001b[0m \u001b[0;32mimport\u001b[0m \u001b[0mrcParams\u001b[0m\u001b[0;34m\u001b[0m\u001b[0;34m\u001b[0m\u001b[0m\n\u001b[0;32m---> 20\u001b[0;31m \u001b[0;32mfrom\u001b[0m \u001b[0mmatplotlib\u001b[0m \u001b[0;32mimport\u001b[0m \u001b[0mbackends\u001b[0m\u001b[0;34m,\u001b[0m \u001b[0mdocstring\u001b[0m\u001b[0;34m,\u001b[0m \u001b[0mprojections\u001b[0m\u001b[0;34m\u001b[0m\u001b[0;34m\u001b[0m\u001b[0m\n\u001b[0m\u001b[1;32m     21\u001b[0m \u001b[0;32mfrom\u001b[0m \u001b[0mmatplotlib\u001b[0m \u001b[0;32mimport\u001b[0m \u001b[0m__version__\u001b[0m \u001b[0;32mas\u001b[0m \u001b[0m_mpl_version\u001b[0m\u001b[0;34m\u001b[0m\u001b[0;34m\u001b[0m\u001b[0m\n\u001b[1;32m     22\u001b[0m \u001b[0;32mfrom\u001b[0m \u001b[0mmatplotlib\u001b[0m \u001b[0;32mimport\u001b[0m \u001b[0mget_backend\u001b[0m\u001b[0;34m\u001b[0m\u001b[0;34m\u001b[0m\u001b[0m\n",
      "\u001b[0;32m~/.local/lib/python3.7/site-packages/matplotlib/projections/__init__.py\u001b[0m in \u001b[0;36m<module>\u001b[0;34m\u001b[0m\n\u001b[1;32m      2\u001b[0m \u001b[0;32mfrom\u001b[0m \u001b[0;34m.\u001b[0m\u001b[0mgeo\u001b[0m \u001b[0;32mimport\u001b[0m \u001b[0mAitoffAxes\u001b[0m\u001b[0;34m,\u001b[0m \u001b[0mHammerAxes\u001b[0m\u001b[0;34m,\u001b[0m \u001b[0mLambertAxes\u001b[0m\u001b[0;34m,\u001b[0m \u001b[0mMollweideAxes\u001b[0m\u001b[0;34m\u001b[0m\u001b[0;34m\u001b[0m\u001b[0m\n\u001b[1;32m      3\u001b[0m \u001b[0;32mfrom\u001b[0m \u001b[0;34m.\u001b[0m\u001b[0mpolar\u001b[0m \u001b[0;32mimport\u001b[0m \u001b[0mPolarAxes\u001b[0m\u001b[0;34m\u001b[0m\u001b[0;34m\u001b[0m\u001b[0m\n\u001b[0;32m----> 4\u001b[0;31m \u001b[0;32mfrom\u001b[0m \u001b[0mmpl_toolkits\u001b[0m\u001b[0;34m.\u001b[0m\u001b[0mmplot3d\u001b[0m \u001b[0;32mimport\u001b[0m \u001b[0mAxes3D\u001b[0m\u001b[0;34m\u001b[0m\u001b[0;34m\u001b[0m\u001b[0m\n\u001b[0m\u001b[1;32m      5\u001b[0m \u001b[0;34m\u001b[0m\u001b[0m\n\u001b[1;32m      6\u001b[0m \u001b[0;34m\u001b[0m\u001b[0m\n",
      "\u001b[0;32m/opt/anaconda3/envs/bigdatalab_cpu_202101/lib/python3.7/site-packages/mpl_toolkits/mplot3d/__init__.py\u001b[0m in \u001b[0;36m<module>\u001b[0;34m\u001b[0m\n\u001b[0;32m----> 1\u001b[0;31m \u001b[0;32mfrom\u001b[0m \u001b[0;34m.\u001b[0m\u001b[0maxes3d\u001b[0m \u001b[0;32mimport\u001b[0m \u001b[0mAxes3D\u001b[0m\u001b[0;34m\u001b[0m\u001b[0;34m\u001b[0m\u001b[0m\n\u001b[0m",
      "\u001b[0;32m/opt/anaconda3/envs/bigdatalab_cpu_202101/lib/python3.7/site-packages/mpl_toolkits/mplot3d/axes3d.py\u001b[0m in \u001b[0;36m<module>\u001b[0;34m\u001b[0m\n\u001b[1;32m     40\u001b[0m \u001b[0;34m\u001b[0m\u001b[0m\n\u001b[1;32m     41\u001b[0m \u001b[0;34m\u001b[0m\u001b[0m\n\u001b[0;32m---> 42\u001b[0;31m \u001b[0;32mclass\u001b[0m \u001b[0mAxes3D\u001b[0m\u001b[0;34m(\u001b[0m\u001b[0mAxes\u001b[0m\u001b[0;34m)\u001b[0m\u001b[0;34m:\u001b[0m\u001b[0;34m\u001b[0m\u001b[0;34m\u001b[0m\u001b[0m\n\u001b[0m\u001b[1;32m     43\u001b[0m     \"\"\"\n\u001b[1;32m     44\u001b[0m     \u001b[0;36m3\u001b[0m\u001b[0mD\u001b[0m \u001b[0maxes\u001b[0m \u001b[0mobject\u001b[0m\u001b[0;34m.\u001b[0m\u001b[0;34m\u001b[0m\u001b[0;34m\u001b[0m\u001b[0m\n",
      "\u001b[0;32m/opt/anaconda3/envs/bigdatalab_cpu_202101/lib/python3.7/site-packages/mpl_toolkits/mplot3d/axes3d.py\u001b[0m in \u001b[0;36mAxes3D\u001b[0;34m()\u001b[0m\n\u001b[1;32m     50\u001b[0m     def __init__(\n\u001b[1;32m     51\u001b[0m             \u001b[0mself\u001b[0m\u001b[0;34m,\u001b[0m \u001b[0mfig\u001b[0m\u001b[0;34m,\u001b[0m \u001b[0mrect\u001b[0m\u001b[0;34m=\u001b[0m\u001b[0;32mNone\u001b[0m\u001b[0;34m,\u001b[0m \u001b[0;34m*\u001b[0m\u001b[0margs\u001b[0m\u001b[0;34m,\u001b[0m\u001b[0;34m\u001b[0m\u001b[0;34m\u001b[0m\u001b[0m\n\u001b[0;32m---> 52\u001b[0;31m             \u001b[0mazim\u001b[0m\u001b[0;34m=\u001b[0m\u001b[0;34m-\u001b[0m\u001b[0;36m60\u001b[0m\u001b[0;34m,\u001b[0m \u001b[0melev\u001b[0m\u001b[0;34m=\u001b[0m\u001b[0;36m30\u001b[0m\u001b[0;34m,\u001b[0m \u001b[0mzscale\u001b[0m\u001b[0;34m=\u001b[0m\u001b[0;32mNone\u001b[0m\u001b[0;34m,\u001b[0m \u001b[0msharez\u001b[0m\u001b[0;34m=\u001b[0m\u001b[0;32mNone\u001b[0m\u001b[0;34m,\u001b[0m \u001b[0mproj_type\u001b[0m\u001b[0;34m=\u001b[0m\u001b[0;34m'persp'\u001b[0m\u001b[0;34m,\u001b[0m\u001b[0;34m\u001b[0m\u001b[0;34m\u001b[0m\u001b[0m\n\u001b[0m\u001b[1;32m     53\u001b[0m             **kwargs):\n\u001b[1;32m     54\u001b[0m         \"\"\"\n",
      "\u001b[0;32m~/.local/lib/python3.7/site-packages/matplotlib/docstring.py\u001b[0m in \u001b[0;36mdedent_interpd\u001b[0;34m(func)\u001b[0m\n\u001b[1;32m    114\u001b[0m     \u001b[0;34m\"\"\"Dedent *func*'s docstring, then interpolate it with ``interpd``.\"\"\"\u001b[0m\u001b[0;34m\u001b[0m\u001b[0;34m\u001b[0m\u001b[0m\n\u001b[1;32m    115\u001b[0m     \u001b[0mfunc\u001b[0m\u001b[0;34m.\u001b[0m\u001b[0m__doc__\u001b[0m \u001b[0;34m=\u001b[0m \u001b[0minspect\u001b[0m\u001b[0;34m.\u001b[0m\u001b[0mgetdoc\u001b[0m\u001b[0;34m(\u001b[0m\u001b[0mfunc\u001b[0m\u001b[0;34m)\u001b[0m\u001b[0;34m\u001b[0m\u001b[0;34m\u001b[0m\u001b[0m\n\u001b[0;32m--> 116\u001b[0;31m     \u001b[0;32mreturn\u001b[0m \u001b[0minterpd\u001b[0m\u001b[0;34m(\u001b[0m\u001b[0mfunc\u001b[0m\u001b[0;34m)\u001b[0m\u001b[0;34m\u001b[0m\u001b[0;34m\u001b[0m\u001b[0m\n\u001b[0m\u001b[1;32m    117\u001b[0m \u001b[0;34m\u001b[0m\u001b[0m\n\u001b[1;32m    118\u001b[0m \u001b[0;34m\u001b[0m\u001b[0m\n",
      "\u001b[0;32m~/.local/lib/python3.7/site-packages/matplotlib/docstring.py\u001b[0m in \u001b[0;36m__call__\u001b[0;34m(self, func)\u001b[0m\n\u001b[1;32m     38\u001b[0m     \u001b[0;32mdef\u001b[0m \u001b[0m__call__\u001b[0m\u001b[0;34m(\u001b[0m\u001b[0mself\u001b[0m\u001b[0;34m,\u001b[0m \u001b[0mfunc\u001b[0m\u001b[0;34m)\u001b[0m\u001b[0;34m:\u001b[0m\u001b[0;34m\u001b[0m\u001b[0;34m\u001b[0m\u001b[0m\n\u001b[1;32m     39\u001b[0m         \u001b[0;32mif\u001b[0m \u001b[0mfunc\u001b[0m\u001b[0;34m.\u001b[0m\u001b[0m__doc__\u001b[0m\u001b[0;34m:\u001b[0m\u001b[0;34m\u001b[0m\u001b[0;34m\u001b[0m\u001b[0m\n\u001b[0;32m---> 40\u001b[0;31m             \u001b[0mfunc\u001b[0m\u001b[0;34m.\u001b[0m\u001b[0m__doc__\u001b[0m \u001b[0;34m%=\u001b[0m \u001b[0mself\u001b[0m\u001b[0;34m.\u001b[0m\u001b[0mparams\u001b[0m\u001b[0;34m\u001b[0m\u001b[0;34m\u001b[0m\u001b[0m\n\u001b[0m\u001b[1;32m     41\u001b[0m         \u001b[0;32mreturn\u001b[0m \u001b[0mfunc\u001b[0m\u001b[0;34m\u001b[0m\u001b[0;34m\u001b[0m\u001b[0m\n\u001b[1;32m     42\u001b[0m \u001b[0;34m\u001b[0m\u001b[0m\n",
      "\u001b[0;31mKeyError\u001b[0m: 'scale'"
     ]
    }
   ],
   "source": [
    "import numpy as np\n",
    "import scipy as sp\n",
    "import pandas as pd\n",
    "import matplotlib.pyplot as plt\n",
    "%matplotlib inline\n",
    "import seaborn as sns\n",
    "from sklearn.feature_selection import SelectKBest\n",
    "from sklearn.feature_selection import chi2\n",
    "from sklearn.tree import DecisionTreeClassifier\n",
    "from sklearn.ensemble import RandomForestClassifier\n",
    "from sklearn.ensemble import RandomForestRegressor\n",
    "from sklearn import preprocessing\n",
    "from sklearn.metrics import classification_report\n",
    "from sklearn.model_selection import cross_val_score\n",
    "from sklearn.metrics import classification_report, confusion_matrix, accuracy_score\n",
    "from sklearn.tree import DecisionTreeRegressor\n",
    "from sklearn import preprocessing\n",
    "from sklearn.datasets import make_regression\n",
    "from sklearn.feature_selection import SelectKBest\n",
    "from sklearn.feature_selection import f_regression\n",
    "from sklearn.metrics import plot_confusion_matrix\n",
    "from sklearn.ensemble import ExtraTreesClassifier\n",
    "from sklearn.feature_selection import mutual_info_classif\n",
    "from mlxtend.feature_selection import SequentialFeatureSelector\n",
    "from sklearn .linear_model import LogisticRegression\n",
    "from mlxtend .feature_selection import SequentialFeatureSelector\n",
    "from sklearn.feature_selection import f_classif\n",
    "from sklearn.feature_selection import VarianceThreshold\n",
    "from sklearn.model_selection import learning_curve"
   ]
  },
  {
   "cell_type": "code",
   "execution_count": 2,
   "id": "thorough-refund",
   "metadata": {},
   "outputs": [],
   "source": [
    "pd.set_option(\"display.max_columns\",3000)  #this allows us to view up to 3000 columns when printing a dataframe\n",
    "pd.set_option(\"display.max_rows\",3000)  #this allows us to view up to 3000 rows when printing a dataframe"
   ]
  },
  {
   "cell_type": "markdown",
   "id": "rolled-smart",
   "metadata": {},
   "source": [
    "## Concealment Prediction"
   ]
  },
  {
   "cell_type": "markdown",
   "id": "irish-hawaii",
   "metadata": {},
   "source": [
    "##### In this section, we'll use \"framesDropped\" field in order to predict the concealment of video and \"concealmentEvents\" field for concealment of audio - so 2 different problems. Firstly, we'll check if there are any concealment (seperately in each of them, audio and video, using corresponding fields as anticipated above) using classification method. Then, for the cases where concealment are predicted as present we'll use Regression to predict the exact value of that Concealemnt."
   ]
  },
  {
   "cell_type": "markdown",
   "id": "southern-planet",
   "metadata": {},
   "source": [
    "#### Func-1: Input data"
   ]
  },
  {
   "cell_type": "code",
   "execution_count": 3,
   "id": "industrial-partition",
   "metadata": {},
   "outputs": [],
   "source": [
    "def inp_data(data_val):\n",
    "    global dataFrame\n",
    "    global dataFrame_1\n",
    "    \n",
    "    global X_train\n",
    "    global X_test\n",
    "    global X_train_main\n",
    "    global X_test_main\n",
    "    \n",
    "    dataFrame=pd.read_csv(\"Train_1000ms_unbalanced.csv\")  #reading train dataSet file\n",
    "    dataFrame_1=pd.read_csv(\"Test_1000ms_unbalanced.csv\")  #reading test dataSet file\n",
    "    \n",
    "    #Selection of all training data I thought it would be useful to count on:\n",
    "    drp_1=dataFrame.iloc[:,0:27]\n",
    "    drp_2=dataFrame.loc[:,\"flow\":\"p_type\"]\n",
    "    X_train = dataFrame.drop(drp_1+drp_2,axis=1) #axis=0 indicates rows, axis=1 indicates columns\n",
    "    X_train = X_train.drop(X_train.loc[:,'rtp_csrc_csrc_agg':'inter_time_sequence_max_value_count_percent'],axis=1)\n",
    "    \n",
    "    X_test = dataFrame_1.loc[:, X_train.columns]\n",
    "    \n",
    "    #Dintinguish between audio and video packets as below:\n",
    "    if data_val == \"audio\":\n",
    "        dataFrame=dataFrame[dataFrame[\"kind\"]==\"audio\"]\n",
    "        dataFrame_1=dataFrame_1[dataFrame_1[\"kind\"]==\"audio\"]\n",
    "        \n",
    "        # Remove the data corresponding to concealmentEvents=-1 since it means NO DATA were collected about it\n",
    "        dataFrame = dataFrame[dataFrame[\"concealmentEvents\"]!=-1]\n",
    "        dataFrame_1 = dataFrame_1[dataFrame_1[\"concealmentEvents\"]!=-1]\n",
    "        #NOTE: Here it comes out the problem, when we extract -1s we have no data representing the NO CONCEALMENT case. That's why we expect an accuracy 100% in classification process\n",
    "        \n",
    "        \n",
    "    else:\n",
    "        dataFrame=dataFrame[dataFrame[\"kind\"]==\"video\"]\n",
    "        dataFrame_1=dataFrame_1[dataFrame_1[\"kind\"]==\"video\"]\n",
    "        \n",
    "        # Remove the data corresponding to framesDropped=-1 since it means NO DATA were collected about it\n",
    "        dataFrame = dataFrame[dataFrame[\"framesDropped\"]!=-1]\n",
    "        dataFrame_1 = dataFrame_1[dataFrame_1[\"framesDropped\"]!=-1]\n",
    "        "
   ]
  },
  {
   "cell_type": "markdown",
   "id": "excellent-consciousness",
   "metadata": {},
   "source": [
    "#### Func-2) Preparing the target by extracting the cumulative values from each other"
   ]
  },
  {
   "cell_type": "code",
   "execution_count": 4,
   "id": "centered-universe",
   "metadata": {},
   "outputs": [],
   "source": [
    "def extract(data_typ):\n",
    "    global dataFrame\n",
    "    global dataFrame_1\n",
    "    print(\"\\n We're doing the extraction process\")\n",
    "    if data_typ == \"audio\":\n",
    "        # Assign the differences between contiguous values (by using groupby and .diff) to a new column called: \"exact_audio_concealment\".\n",
    "        #This is done because the values in \"concealmentEvents\" field are cumulative (so summed u of each other)\n",
    "        dataFrame[\"exact_audio_concealment\"] = dataFrame.groupby(['flow', 'pcap']).concealmentEvents.diff()    #Groups the data based on flow and pcap fields (takes all rows one-by-one) and after each row it check for any matching combination field in previous rows, if there is a match group (flow-pcap) it extracts the previous value of concealmentEvents from the one currently in hand, if no matching is found (especially in the first comparision) then NaN is written.\n",
    "    \n",
    "        # Do the same thing for Audio test dataset too\n",
    "        dataFrame_1[\"exact_audio_concealment\"] = dataFrame_1.groupby(['flow', 'pcap']).concealmentEvents.diff()    #Groups the data based on flow and pcap fields (takes all rows one-by-one) and after each row it check for any matching combination field in previous rows, if there is a match group (flow-pcap) it extracts the previous value of concealmentEvents from the one currently in hand, if no matching found then NaN is written.\n",
    "            \n",
    "    else:\n",
    "        # Assign the differences between contiguous values (by using groupby and .diff) to a new column called: \"exact_video_concealment\"\n",
    "        dataFrame[\"exact_video_concealment\"] = dataFrame.groupby(['flow', 'pcap']).framesDropped.diff()    #Groups the data based on flow and pcap fields (takes all rows one-by-one) and after each row it check for any matching combination field in previous rows, if there is a match group (flow-pcap) it extracts the previous value of concealmentEvents from the one currently in hand, if no matching found then NaN is written.\n",
    "    \n",
    "        # Do the same thing for Video testing dataset too\n",
    "        dataFrame_1[\"exact_video_concealment\"] = dataFrame_1.groupby(['flow', 'pcap']).framesDropped.diff()    #Groups the data based on flow and pcap fields (takes all rows one-by-one) and after each row it check for any matching combination field in previous rows, if there is a match group (flow-pcap) it extracts the previous value of concealmentEvents from the one currently in hand, if no matching found then NaN is written.\n",
    "        "
   ]
  },
  {
   "cell_type": "markdown",
   "id": "forbidden-bedroom",
   "metadata": {},
   "source": [
    "#### Func-3) Classification process"
   ]
  },
  {
   "cell_type": "code",
   "execution_count": 5,
   "id": "direct-judgment",
   "metadata": {},
   "outputs": [],
   "source": [
    "def classif(data_val):\n",
    "    global dataFrame\n",
    "    global dataFrame_1\n",
    "    \n",
    "    global X_train\n",
    "    global X_test\n",
    "    global y_train\n",
    "    global y_test\n",
    "    global tar_no\n",
    "    \n",
    "    #Adjust the dataset and training/test dataset in order to be used for CLASSIFICATION method\n",
    "    if data_val==\"audio\":\n",
    "        # Here we create a new column (for simplification purposes) which contains only 2 classes, \"1\" indicating the presence of CONCEALMENT and \"0\" indicating there are NOT. \n",
    "        dataFrame.loc[(dataFrame['exact_audio_concealment'] != 0), 'Aud_CONCEALMENT_Present?'] = 1\n",
    "        dataFrame.loc[(dataFrame['exact_audio_concealment'] == 0), 'Aud_CONCEALMENT_Present?'] = 0\n",
    "    \n",
    "        # Same thing as above also for testing dataset\n",
    "        dataFrame_1.loc[(dataFrame_1['exact_audio_concealment'] != 0), 'Aud_CONCEALMENT_Present?'] = 1 \n",
    "        dataFrame_1.loc[(dataFrame_1['exact_audio_concealment'] == 0), 'Aud_CONCEALMENT_Present?'] = 0\n",
    "        \n",
    "        # This recently created column will be used as \"TARGET\" field to predict whether there is any CONCEALMENT or not using CLASSIFICATION.\n",
    "        y_train = dataFrame[\"Aud_CONCEALMENT_Present?\"]\n",
    "        y_test = dataFrame_1[\"Aud_CONCEALMENT_Present?\"]\n",
    "        y_train = y_train.dropna()\n",
    "        y_test = y_test.dropna()\n",
    "        X_train = X_train.loc[y_train.index]   #balance the indexes of X_train to those of y_train (since many rows were dropped above)\n",
    "        X_test = X_test.loc[y_test.index]      #balance the indexes of X_test to those of y_test (since many rows were dropped above)\n",
    "        \n",
    "        \n",
    "    elif data_val==\"video\":\n",
    "        tar_no=input(\"Do you want 2 groups (0s and 1s) or 3 groups (0s, positives and negative): \")\n",
    "        if tar_no=='2':\n",
    "            # Here we create a new column (for simplification purposes) which contains only 2 classes, \"1\" indicating the presence of CONCEALMENT and \"0\" indicating there are NOT. \n",
    "            dataFrame.loc[(dataFrame['exact_video_concealment'] != 0), 'Vid_CONCEALMENT_Present?'] = 1\n",
    "            dataFrame.loc[(dataFrame['exact_video_concealment'] == 0), 'Vid_CONCEALMENT_Present?'] = 0\n",
    "    \n",
    "            # Same thing as above also for testing dataset\n",
    "            dataFrame_1.loc[(dataFrame_1['exact_video_concealment'] != 0), 'Vid_CONCEALMENT_Present?'] = 1 \n",
    "            dataFrame_1.loc[(dataFrame_1['exact_video_concealment'] == 0), 'Vid_CONCEALMENT_Present?'] = 0\n",
    "        \n",
    "            # This recently created column will be used as \"TARGET\" field to predict whether there is any CONCEALMENT or not using CLASSIFICATION.\n",
    "            y_train = dataFrame[\"Vid_CONCEALMENT_Present?\"]\n",
    "            y_test = dataFrame_1[\"Vid_CONCEALMENT_Present?\"]\n",
    "            y_train = y_train.dropna()\n",
    "            y_test = y_test.dropna()\n",
    "            X_train = X_train.loc[y_train.index]\n",
    "            X_test = X_test.loc[y_test.index]\n",
    "            \n",
    "            \n",
    "        elif tar_no=='3':\n",
    "            dataFrame.loc[(dataFrame['exact_video_concealment'] < 0), 'Vid_CONCEALMENT_Present?'] = -1\n",
    "            dataFrame.loc[(dataFrame['exact_video_concealment'] == 0), 'Vid_CONCEALMENT_Present?'] = 0\n",
    "            dataFrame.loc[(dataFrame['exact_video_concealment'] > 0), 'Vid_CONCEALMENT_Present?'] = 1\n",
    "            \n",
    "            dataFrame_1.loc[(dataFrame_1['exact_video_concealment'] < 0), 'Vid_CONCEALMENT_Present?'] = -1\n",
    "            dataFrame_1.loc[(dataFrame_1['exact_video_concealment'] == 0), 'Vid_CONCEALMENT_Present?'] = 0\n",
    "            dataFrame_1.loc[(dataFrame_1['exact_video_concealment'] > 0), 'Vid_CONCEALMENT_Present?'] = 1\n",
    "            \n",
    "            y_train = dataFrame[\"Vid_CONCEALMENT_Present?\"]\n",
    "            y_test = dataFrame_1[\"Vid_CONCEALMENT_Present?\"]\n",
    "            y_train = y_train.dropna()\n",
    "            y_test = y_test.dropna()\n",
    "            X_train = X_train.loc[y_train.index]\n",
    "            X_test = X_test.loc[y_test.index]"
   ]
  },
  {
   "cell_type": "markdown",
   "id": "whole-accuracy",
   "metadata": {},
   "source": [
    "#### Func-4: Decision Tree Classifier"
   ]
  },
  {
   "cell_type": "code",
   "execution_count": 6,
   "id": "minor-programmer",
   "metadata": {},
   "outputs": [],
   "source": [
    "def dec_tree_class(dat_typ):\n",
    "    global predictions\n",
    "    \n",
    "    de_tree_clsf = DecisionTreeClassifier()  #enable the decision tree classifier\n",
    "    de_tree_clsf.fit(X_train,y_train)  #fit the model with x_train and y_train\n",
    "    predictions = de_tree_clsf.predict(X_test)  # test the trained model with unseen data (X_tets in our case) and see\n",
    "    \n",
    "    # Evaluate the performance of that CLASSIFICATION\n",
    "    print(confusion_matrix(y_test,predictions))\n",
    "    if dat_typ==\"audio\":\n",
    "        plot_confusion_matrix(de_tree_clsf, X_test, y_test,\n",
    "                                     display_labels=[\"0\",\"1\"],\n",
    "                                     cmap=plt.cm.Blues,\n",
    "                                     normalize=None)         #Confusion matrix plot\n",
    "    \n",
    "    elif dat_typ==\"video\":\n",
    "        if tar_no=='2':\n",
    "            plot_confusion_matrix(de_tree_clsf, X_test, y_test,\n",
    "                                         display_labels=[\"0\",\"1\"],\n",
    "                                         cmap=plt.cm.Blues,\n",
    "                                         normalize=None)         #Confusion matrix plot\n",
    "        \n",
    "        elif tar_no=='3':\n",
    "            plot_confusion_matrix(de_tree_clsf, X_test, y_test,\n",
    "                                         display_labels=[\"-1\",\"0\",\"1\"],\n",
    "                                         cmap=plt.cm.Blues,\n",
    "                                         normalize=None)         #Confusion matrix plot\n",
    "        \n",
    "    print(classification_report(y_test,predictions))\n",
    "    print(\"Accuracy score is:\", accuracy_score(y_test, predictions))\n"
   ]
  },
  {
   "cell_type": "markdown",
   "id": "expanded-accordance",
   "metadata": {},
   "source": [
    "#### Func-5: Random Forest Classifier"
   ]
  },
  {
   "cell_type": "code",
   "execution_count": 7,
   "id": "medical-hometown",
   "metadata": {},
   "outputs": [],
   "source": [
    "def rand_for_class(dat_typ):\n",
    "    global predictions\n",
    "    \n",
    "    r_forest = RandomForestClassifier()  #enable the Random Forest Classifier\n",
    "    r_forest.fit(X_train,y_train)  #fit the model with x_train and y_train\n",
    "    predictions = r_forest.predict(X_test)\n",
    "    \n",
    "    #Evaluation process\n",
    "    from sklearn.metrics import classification_report, confusion_matrix, accuracy_score\n",
    "    print(confusion_matrix(y_test,predictions))\n",
    "    if dat_typ==\"audio\":\n",
    "        plot_confusion_matrix(r_forest, X_test, y_test,\n",
    "                                     display_labels=[\"0\",\"1\"],\n",
    "                                     cmap=plt.cm.Blues,\n",
    "                                     normalize=None)         #Confusion matrix plot\n",
    "    \n",
    "    elif dat_typ==\"video\":\n",
    "        if tar_no=='2':\n",
    "            plot_confusion_matrix(r_forest, X_test, y_test,\n",
    "                                         display_labels=[\"0\",\"1\"],\n",
    "                                         cmap=plt.cm.Blues,\n",
    "                                         normalize=None)         #Confusion matrix plot\n",
    "        \n",
    "        elif tar_no=='3':\n",
    "            plot_confusion_matrix(r_forest, X_test, y_test,\n",
    "                                         display_labels=[\"-1\",\"0\",\"1\"],\n",
    "                                         cmap=plt.cm.Blues,\n",
    "                                         normalize=None)         #Confusion matrix plot\n",
    "            \n",
    "    print(classification_report(y_test,predictions))\n",
    "    print(\"Accuracy score is:\", accuracy_score(y_test, predictions))\n",
    "    "
   ]
  },
  {
   "cell_type": "markdown",
   "id": "difficult-dream",
   "metadata": {},
   "source": [
    "#### Func-6: Select the most appropriate dataset for REGRESSION"
   ]
  },
  {
   "cell_type": "code",
   "execution_count": 8,
   "id": "simple-equality",
   "metadata": {},
   "outputs": [],
   "source": [
    "def regr(data_typ):\n",
    "    global dataFrame\n",
    "    global dataFrame_1\n",
    "    \n",
    "    print(\"Adjusting the dataset in order to proceed with regression\")\n",
    "    if data_typ==\"audio\":  \n",
    "        dataFrame_1[\"Audio_conceal_prediction\"]=predictions     #Add a new column to the Audio dataframe, containing all the predictions made above using CLASSIFICATION algorithm. This will help in taking only the packets for which a CONCEALMENT is predicted as existing in order to predict the exact value with regression.\n",
    "        \n",
    "        # Train the model using only audio packets for which concealment is present. So I filtered the dataFrame in such a way that only data for which concealment is present will be used.\n",
    "        dataFrame = dataFrame[dataFrame[\"Aud_CONCEALMENT_Present?\"]==1]     #take only the rows for which concealment is present and assign them to a new dataFrame.\n",
    "        \n",
    "        # For testing purposes, we take only the data for which our previous model predicted that there was concealment and based on those data it tries to predict the exact Concealment value for those predicted as CONCEALMENT exists.\n",
    "        dataFrame_1 = dataFrame_1[dataFrame_1[\"Audio_conceal_prediction\"]==1]  #Take all rows predicted as there was CONCEALMENT and assign them to a new dataFrame\n",
    "        \n",
    "        \n",
    "    else:\n",
    "        dataFrame_1[\"Video_conceal_prediction\"]=predictions    #Add a new column to the Video dataframe , containing all the predictions made above using CLASSIFICATION algorithm. This will help in taking only the packets for which a CONCEALMENT is predicted as existing.\n",
    "        \n",
    "        # Train the model using only video packets for which concealment is present. So I filtered the dataFrame in such a way that only data for which concealment is present will be used.\n",
    "        dataFrame = dataFrame[dataFrame[\"Vid_CONCEALMENT_Present?\"]==1]     #take only the rows for which concealment is present and assign them to a new dataFrame.\n",
    "        \n",
    "        # For testing purposes, we take only the data for which our previous model predicted that there was concealment and based on those data it tries to predict the exact Concealment value for those predicted as CONCEALMENT exists.\n",
    "        dataFrame_1 = dataFrame_1[dataFrame_1[\"Video_conceal_prediction\"]==1]  #Take all rows predicted as there was CONCEALMENT and assign them to a new dataFrame\n",
    "         "
   ]
  },
  {
   "cell_type": "markdown",
   "id": "referenced-infection",
   "metadata": {},
   "source": [
    "#### Func-7: Re-adjust the input data (for REGRESSION)"
   ]
  },
  {
   "cell_type": "code",
   "execution_count": 9,
   "id": "extra-nevada",
   "metadata": {},
   "outputs": [],
   "source": [
    "def regre_inp_data(data_typ):\n",
    "    global X_train\n",
    "    global X_test\n",
    "    global y_train\n",
    "    global y_test\n",
    "    global X_train_main\n",
    "    global X_test_main\n",
    "    \n",
    "    #print(\"Input data preparation\")\n",
    "    \n",
    "    #Selection of all training data I thought it would be useful to count on:\n",
    "    drp_1=dataFrame.iloc[:,0:27]\n",
    "    drp_2=dataFrame.loc[:,\"flow\":\"p_type\"]\n",
    "    X_train = dataFrame.drop(drp_1+drp_2,axis=1) #axis=0 indicates rows, axis=1 indicates columns\n",
    "    X_train = X_train.drop(X_train.loc[:,'rtp_csrc_csrc_agg':'inter_time_sequence_max_value_count_percent'],axis=1)  \n",
    "    X_test = dataFrame_1.loc[:, X_train.columns]\n",
    "    \n",
    "    if data_typ == \"audio\":\n",
    "        y_train = dataFrame[\"exact_audio_concealment\"]   #Target train, taken from the selected data\n",
    "        y_test = dataFrame_1[\"exact_audio_concealment\"]    #Target test, taken from the selected data predicted as there are concealments.\n",
    "        \n",
    "        #Drop the non-numerical values and equalize the number of indexes accordingly in order to avoid missmatches\n",
    "        y_train = y_train.dropna()\n",
    "        y_test = y_test.dropna()\n",
    "        X_train = X_train.loc[y_train.index]\n",
    "        X_test = X_test.loc[y_test.index]\n",
    "        \n",
    "    else:\n",
    "        y_train = dataFrame[\"exact_video_concealment\"]   #Target train, taken from the selected data\n",
    "        y_test = dataFrame_1[\"exact_video_concealment\"]    #Target test, taken from the selected data predicted as there are concealments.\n",
    "        \n",
    "        #Drop the non-numerical values and equalize the number of indexes accordingly in order to avoid missmatches\n",
    "        y_train = y_train.dropna()\n",
    "        y_test = y_test.dropna()\n",
    "        X_train = X_train.loc[y_train.index]\n",
    "        X_test = X_test.loc[y_test.index]\n",
    "        \n",
    "    "
   ]
  },
  {
   "cell_type": "markdown",
   "id": "three-payday",
   "metadata": {},
   "source": [
    "#### Func-8: Decision Tree Regressor"
   ]
  },
  {
   "cell_type": "code",
   "execution_count": 10,
   "id": "sound-pencil",
   "metadata": {},
   "outputs": [],
   "source": [
    "def dec_tree_reg():\n",
    "    de_tree = DecisionTreeRegressor()  #enable the decision tree regressor\n",
    "    de_tree.fit(X_train,y_train)  #fit the model with x_train and y_train\n",
    "    pred = de_tree.predict(X_test)  # test the trained model with unseen data (X_tets in our case) and see\n",
    "    \n",
    "    #Evaluation process:\n",
    "    from sklearn.metrics import r2_score\n",
    "    R2 = r2_score(pred, y_test)\n",
    "    print(\"R2 score is:\",R2)\n",
    "    \n",
    "    from sklearn.metrics import mean_absolute_error as mae\n",
    "    MAE = mae(pred,y_test)\n",
    "    print (\"Mean Absolute Error is:\",MAE)\n",
    "    "
   ]
  },
  {
   "cell_type": "markdown",
   "id": "specified-reducing",
   "metadata": {},
   "source": [
    "#### Func-9: Random Forest Regression"
   ]
  },
  {
   "cell_type": "code",
   "execution_count": 11,
   "id": "subjective-cookie",
   "metadata": {},
   "outputs": [],
   "source": [
    "def rand_for_reg():\n",
    "    #use \"global\" in order to be able to modify a previously defined global varible inside a function\n",
    "    global X_train\n",
    "    global X_test\n",
    "    global y_train\n",
    "    global y_test\n",
    "    \n",
    "    Rand_for = RandomForestRegressor()\n",
    "    Rand_fit = Rand_for.fit(X_train, y_train)\n",
    "    pred = Rand_fit.predict(X_test)\n",
    "        \n",
    "    from sklearn.metrics import r2_score\n",
    "    R2 = r2_score(pred, y_test)\n",
    "    print(\"R2 score is:\",R2)\n",
    "        \n",
    "    from sklearn.metrics import mean_absolute_error as mae\n",
    "    MAE = mae(pred, y_test)\n",
    "    print (\"Mean Absolute Error is:\",MAE)\n",
    "        \n",
    "    from sklearn.metrics import mean_squared_error as mse\n",
    "    MSE = mse (pred, y_test)\n",
    "    print (\"Mean Squared Error:\", MSE)"
   ]
  },
  {
   "cell_type": "markdown",
   "id": "entitled-likelihood",
   "metadata": {},
   "source": [
    "#### Func-10) Feature Selection for CLASSIFICATION only"
   ]
  },
  {
   "cell_type": "code",
   "execution_count": 12,
   "id": "dried-grain",
   "metadata": {},
   "outputs": [],
   "source": [
    "def feat_sel(sel_meth):\n",
    "    global X_train\n",
    "    global X_test\n",
    "    global y_train\n",
    "    global y_test\n",
    "    global X_selected\n",
    "    \n",
    "    \n",
    "    if sel_meth == \"ExtraTree\":\n",
    "        print(f\"The feature selection method being used is {sel_meth}\")\n",
    "        model = ExtraTreesClassifier()\n",
    "        model.fit(X_train,y_train)\n",
    "        # print(model.feature_importances_) #use inbuilt class feature_importances of tree based classifiers\n",
    "        #plot graph of feature importances for better visualization\n",
    "        feat_importances = pd.Series(model.feature_importances_, index=X_train.columns)\n",
    "    \n",
    "        X_train=X_train.loc[:,feat_importances.nlargest(35).index]        #Use the best 35 fields/columns of the X_train\n",
    "        #X_test=X_test.loc[:,X_train.columns]  \n",
    "        y_train = y_train.loc[X_train.index]\n",
    "        X_test = X_test[X_train.columns]\n",
    "        y_test = y_test.loc[X_test.index]\n",
    "        \n",
    "        print(f'Reduced number of features after {sel_meth} selection method:', X_train.shape)\n",
    "        \n",
    "        \n",
    "    elif sel_meth == \"infoGain\":\n",
    "        print(f\"The feature selection method being used is {sel_meth}\")\n",
    "        importances = mutual_info_classif(X_train,y_train)\n",
    "        feat_imp=pd.Series(importances, index=X_train.columns)\n",
    "        #print(feat_imp.nlargest(30).index)\n",
    "    \n",
    "        X_train=X_train.loc[:,feat_imp.nlargest(35).index]        #Use the best 35 fields/columns of the X_train\n",
    "        #X_test=X_test.loc[:,X_train.columns]\n",
    "        y_train = y_train.loc[X_train.index]\n",
    "        X_test = X_test[X_train.columns]\n",
    "        y_test = y_test.loc[X_test.index]\n",
    "        \n",
    "        print(f'Reduced number of features after {sel_meth} selection method:', X_train.shape)\n",
    "\n",
    "        \n",
    "    elif sel_meth == \"corrCoeff\":\n",
    "        print(f\"The feature selection method being used is {sel_meth}\")\n",
    "        cor = X_train.corr()                                   # Apply correlation coefficient\n",
    "        columns = np.full((cor.shape[0],), True, dtype=bool)\n",
    "        for i in range(cor.shape[0]):\n",
    "            for j in range(i+1, cor.shape[0]):\n",
    "                if cor.iloc[i,j] >= 0.95:                      #Select only the fields having a correlation less than 95%\n",
    "                    if columns[j]:\n",
    "                        columns[j] = False\n",
    "        selected_columns = X_train.columns[columns]\n",
    "        X_train = X_train[selected_columns]\n",
    "        y_train = y_train.loc[X_train.index]\n",
    "        X_test = X_test[X_train.columns]\n",
    "        y_test = y_test.loc[X_test.index]\n",
    "        \n",
    "        print(f'Reduced number of features after {sel_meth} selection method:', X_train.shape)\n",
    "\n",
    "        \n",
    "    elif sel_meth == \"anova_f\":\n",
    "        print(f\"The feature selection method being used is {sel_meth}\")\n",
    "        fvalue_Best = SelectKBest(f_classif, k=30)\n",
    "        X_kbest = fvalue_Best.fit_transform(X_train, y_train)\n",
    "        X_train = X_train[X_train.columns[fvalue_Best.get_support()]]    #Use only the fields selected by the feature selection method called \"ANOVA F-VALUE\"\n",
    "        y_train = y_train.loc[X_train.index]\n",
    "        X_test = X_test[X_train.columns]\n",
    "        y_test = y_test.loc[X_test.index]\n",
    "\n",
    "        print(f'Reduced number of features using {sel_meth} method:', X_kbest.shape)\n",
    "    \n",
    "        #Drop the non-numerical values and equalize the number of indexes accordingly in order to avoid missmatches\n",
    "        y_train = y_train.dropna()\n",
    "        y_test = y_test.dropna()\n",
    "        X_train = X_train.loc[y_train.index]\n",
    "        X_test = X_test.loc[y_test.index]"
   ]
  },
  {
   "cell_type": "markdown",
   "id": "crude-munich",
   "metadata": {},
   "source": [
    "#### Funct-10: Feature Selection for both (classification and regression) --> For now will not be used (will be enabled when extending to regression as well, once we have got good results for classification)"
   ]
  },
  {
   "cell_type": "code",
   "execution_count": 13,
   "id": "pending-minority",
   "metadata": {},
   "outputs": [
    {
     "data": {
      "text/plain": [
       "'\\ndef feat_sel(sel_meth, dt_type, feat_sel_typ):\\n    global X_train\\n    global X_test\\n    global y_train\\n    global y_test\\n    global X_selected\\n    \\n    if feat_sel_typ == \"reg\":\\n        print(\"Feature selection for regression is being used\")\\n        if dt_type==\"audio\":\\n            # Target field to be used for column selection\\n            y_train = dataFrame[\"exact_audio_concealment\"]\\n            y_test = dataFrame_1[\"exact_audio_concealment\"]\\n        \\n        else:\\n            # Target field to be used for column selection\\n            y_train = dataFrame[\"exact_video_concealment\"]\\n            y_test = dataFrame_1[\"exact_video_concealment\"]\\n    \\n    elif feat_sel_typ == \"class\":\\n        print(\"Feature selection for classification is being used\")\\n        if dt_type==\"audio\":\\n            # Target field to be used for column selection\\n            y_train = dataFrame[\"Aud_CONCEALMENT_Present?\"]\\n            y_test = dataFrame_1[\"Aud_CONCEALMENT_Present?\"]\\n        \\n        else:\\n            # Target field to be used for column selection\\n            y_train = dataFrame[\"Vid_CONCEALMENT_Present?\"]\\n            y_test = dataFrame_1[\"Vid_CONCEALMENT_Present?\"]\\n        \\n        if sel_meth == \"ExtraTree\":\\n            print(f\"The feature selection method being used is {sel_meth}\")\\n            model = ExtraTreesClassifier()\\n            model.fit(X_train,y_train)\\n            # print(model.feature_importances_) #use inbuilt class feature_importances of tree based classifiers\\n            #plot graph of feature importances for better visualization\\n            feat_importances = pd.Series(model.feature_importances_, index=X_train.columns)\\n    \\n            X_train=X_train.loc[:,feat_importances.nlargest(35).index]        #Use the best 35 fields/columns of the X_train\\n            #X_test=X_test.loc[:,X_train.columns]  \\n            y_train = y_train.loc[X_train.index]\\n            X_test = X_test[X_train.columns]\\n            y_test = y_test.loc[X_test.index]\\n        \\n            print(f\\'Reduced number of features after {sel_meth} selection method:\\', X_train.shape)\\n        \\n        \\n        elif sel_meth == \"infoGain\":\\n            print(f\"The feature selection method being used is {sel_meth}\")\\n            importances = mutual_info_classif(X_train,y_train)\\n            feat_imp=pd.Series(importances, index=X_train.columns)\\n            #print(feat_imp.nlargest(30).index)\\n    \\n            X_train=X_train.loc[:,feat_imp.nlargest(35).index]        #Use the best 35 fields/columns of the X_train\\n            #X_test=X_test.loc[:,X_train.columns]\\n            y_train = y_train.loc[X_train.index]\\n            X_test = X_test[X_train.columns]\\n            y_test = y_test.loc[X_test.index]\\n        \\n            print(f\\'Reduced number of features after {sel_meth} selection method:\\', X_train.shape)\\n\\n        \\n        elif sel_meth == \"corrCoeff\":\\n            print(f\"The feature selection method being used is {sel_meth}\")\\n            cor = X_train.corr()                                   # Apply correlation coefficient\\n            columns = np.full((cor.shape[0],), True, dtype=bool)\\n            for i in range(cor.shape[0]):\\n                for j in range(i+1, cor.shape[0]):\\n                    if cor.iloc[i,j] >= 0.95:                      #Select only the fields having a correlation less than 95%\\n                        if columns[j]:\\n                            columns[j] = False\\n            selected_columns = X_train.columns[columns]\\n            X_train = X_train[selected_columns]\\n            y_train = y_train.loc[X_train.index]\\n            X_test = X_test[X_train.columns]\\n            y_test = y_test.loc[X_test.index]\\n        \\n            print(f\\'Reduced number of features after {sel_meth} selection method:\\', X_train.shape)\\n\\n        \\n        elif sel_meth == \"anova_f\":\\n            print(f\"The feature selection method being used is {sel_meth}\")\\n            fvalue_Best = SelectKBest(f_classif, k=30)\\n            X_kbest = fvalue_Best.fit_transform(X_train, y_train)\\n            X_train = X_train[X_train.columns[fvalue_Best.get_support()]]    #Use only the fields selected by the feature selection method called \"ANOVA F-VALUE\"\\n            y_train = y_train.loc[X_train.index]\\n            X_test = X_test[X_train.columns]\\n            y_test = y_test.loc[X_test.index]\\n\\n            print(f\\'Reduced number of features using {sel_meth} method:\\', X_kbest.shape)\\n    \\n    #Drop the non-numerical values and equalize the number of indexes accordingly in order to avoid missmatches\\n    y_train = y_train.dropna()\\n    y_test = y_test.dropna()\\n    X_train = X_train.loc[y_train.index]\\n    X_test = X_test.loc[y_test.index]\\n\\n\\n\\n\\n\\n    if sel_meth==\"Pearson\":\\n        print(\"Feature selection method being used is:\", sel_meth)\\n        # pearson\\'s correlation feature selection for numeric input and numeric output\\n        # define feature selection\\n        fs = SelectKBest(score_func=f_regression, k=30)\\n        # apply feature selection\\n        fs.fit_transform(X_train, y_train)\\n        X_train = X_train[X_train.columns[fs.get_support()]]    # Create the dataset using the columns selected from feature selection\\n        X_test = X_test[X_train.columns]\\n        #print(X_train.columns)\\n        \\n        #Drop the non-numerical values and equalize the number of indexes accordingly in order to avoid missmatches\\n        y_train = y_train.dropna()\\n        y_test = y_test.dropna()\\n        X_train = X_train.loc[y_train.index]\\n        X_test = X_test.loc[y_test.index]\\n        print(f\\'Reduced number of features after {sel_meth} selection method:\\', X_train.shape)\\n    '"
      ]
     },
     "execution_count": 13,
     "metadata": {},
     "output_type": "execute_result"
    }
   ],
   "source": [
    "\n",
    "\"\"\"\n",
    "def feat_sel(sel_meth, dt_type, feat_sel_typ):\n",
    "    global X_train\n",
    "    global X_test\n",
    "    global y_train\n",
    "    global y_test\n",
    "    global X_selected\n",
    "    \n",
    "    if feat_sel_typ == \"reg\":\n",
    "        print(\"Feature selection for regression is being used\")\n",
    "        if dt_type==\"audio\":\n",
    "            # Target field to be used for column selection\n",
    "            y_train = dataFrame[\"exact_audio_concealment\"]\n",
    "            y_test = dataFrame_1[\"exact_audio_concealment\"]\n",
    "        \n",
    "        else:\n",
    "            # Target field to be used for column selection\n",
    "            y_train = dataFrame[\"exact_video_concealment\"]\n",
    "            y_test = dataFrame_1[\"exact_video_concealment\"]\n",
    "    \n",
    "    elif feat_sel_typ == \"class\":\n",
    "        print(\"Feature selection for classification is being used\")\n",
    "        if dt_type==\"audio\":\n",
    "            # Target field to be used for column selection\n",
    "            y_train = dataFrame[\"Aud_CONCEALMENT_Present?\"]\n",
    "            y_test = dataFrame_1[\"Aud_CONCEALMENT_Present?\"]\n",
    "        \n",
    "        else:\n",
    "            # Target field to be used for column selection\n",
    "            y_train = dataFrame[\"Vid_CONCEALMENT_Present?\"]\n",
    "            y_test = dataFrame_1[\"Vid_CONCEALMENT_Present?\"]\n",
    "        \n",
    "        if sel_meth == \"ExtraTree\":\n",
    "            print(f\"The feature selection method being used is {sel_meth}\")\n",
    "            model = ExtraTreesClassifier()\n",
    "            model.fit(X_train,y_train)\n",
    "            # print(model.feature_importances_) #use inbuilt class feature_importances of tree based classifiers\n",
    "            #plot graph of feature importances for better visualization\n",
    "            feat_importances = pd.Series(model.feature_importances_, index=X_train.columns)\n",
    "    \n",
    "            X_train=X_train.loc[:,feat_importances.nlargest(35).index]        #Use the best 35 fields/columns of the X_train\n",
    "            #X_test=X_test.loc[:,X_train.columns]  \n",
    "            y_train = y_train.loc[X_train.index]\n",
    "            X_test = X_test[X_train.columns]\n",
    "            y_test = y_test.loc[X_test.index]\n",
    "        \n",
    "            print(f'Reduced number of features after {sel_meth} selection method:', X_train.shape)\n",
    "        \n",
    "        \n",
    "        elif sel_meth == \"infoGain\":\n",
    "            print(f\"The feature selection method being used is {sel_meth}\")\n",
    "            importances = mutual_info_classif(X_train,y_train)\n",
    "            feat_imp=pd.Series(importances, index=X_train.columns)\n",
    "            #print(feat_imp.nlargest(30).index)\n",
    "    \n",
    "            X_train=X_train.loc[:,feat_imp.nlargest(35).index]        #Use the best 35 fields/columns of the X_train\n",
    "            #X_test=X_test.loc[:,X_train.columns]\n",
    "            y_train = y_train.loc[X_train.index]\n",
    "            X_test = X_test[X_train.columns]\n",
    "            y_test = y_test.loc[X_test.index]\n",
    "        \n",
    "            print(f'Reduced number of features after {sel_meth} selection method:', X_train.shape)\n",
    "\n",
    "        \n",
    "        elif sel_meth == \"corrCoeff\":\n",
    "            print(f\"The feature selection method being used is {sel_meth}\")\n",
    "            cor = X_train.corr()                                   # Apply correlation coefficient\n",
    "            columns = np.full((cor.shape[0],), True, dtype=bool)\n",
    "            for i in range(cor.shape[0]):\n",
    "                for j in range(i+1, cor.shape[0]):\n",
    "                    if cor.iloc[i,j] >= 0.95:                      #Select only the fields having a correlation less than 95%\n",
    "                        if columns[j]:\n",
    "                            columns[j] = False\n",
    "            selected_columns = X_train.columns[columns]\n",
    "            X_train = X_train[selected_columns]\n",
    "            y_train = y_train.loc[X_train.index]\n",
    "            X_test = X_test[X_train.columns]\n",
    "            y_test = y_test.loc[X_test.index]\n",
    "        \n",
    "            print(f'Reduced number of features after {sel_meth} selection method:', X_train.shape)\n",
    "\n",
    "        \n",
    "        elif sel_meth == \"anova_f\":\n",
    "            print(f\"The feature selection method being used is {sel_meth}\")\n",
    "            fvalue_Best = SelectKBest(f_classif, k=30)\n",
    "            X_kbest = fvalue_Best.fit_transform(X_train, y_train)\n",
    "            X_train = X_train[X_train.columns[fvalue_Best.get_support()]]    #Use only the fields selected by the feature selection method called \"ANOVA F-VALUE\"\n",
    "            y_train = y_train.loc[X_train.index]\n",
    "            X_test = X_test[X_train.columns]\n",
    "            y_test = y_test.loc[X_test.index]\n",
    "\n",
    "            print(f'Reduced number of features using {sel_meth} method:', X_kbest.shape)\n",
    "    \n",
    "    #Drop the non-numerical values and equalize the number of indexes accordingly in order to avoid missmatches\n",
    "    y_train = y_train.dropna()\n",
    "    y_test = y_test.dropna()\n",
    "    X_train = X_train.loc[y_train.index]\n",
    "    X_test = X_test.loc[y_test.index]\n",
    "\n",
    "\n",
    "\n",
    "\n",
    "\n",
    "    if sel_meth==\"Pearson\":\n",
    "        print(\"Feature selection method being used is:\", sel_meth)\n",
    "        # pearson's correlation feature selection for numeric input and numeric output\n",
    "        # define feature selection\n",
    "        fs = SelectKBest(score_func=f_regression, k=30)\n",
    "        # apply feature selection\n",
    "        fs.fit_transform(X_train, y_train)\n",
    "        X_train = X_train[X_train.columns[fs.get_support()]]    # Create the dataset using the columns selected from feature selection\n",
    "        X_test = X_test[X_train.columns]\n",
    "        #print(X_train.columns)\n",
    "        \n",
    "        #Drop the non-numerical values and equalize the number of indexes accordingly in order to avoid missmatches\n",
    "        y_train = y_train.dropna()\n",
    "        y_test = y_test.dropna()\n",
    "        X_train = X_train.loc[y_train.index]\n",
    "        X_test = X_test.loc[y_test.index]\n",
    "        print(f'Reduced number of features after {sel_meth} selection method:', X_train.shape)\n",
    "    \"\"\"\n",
    "        "
   ]
  },
  {
   "cell_type": "code",
   "execution_count": null,
   "id": "hidden-manufacturer",
   "metadata": {},
   "outputs": [],
   "source": []
  },
  {
   "cell_type": "markdown",
   "id": "civic-dependence",
   "metadata": {},
   "source": [
    "#### Learning Curve Plot\n",
    "Don't forget to add the Learning Curve same as we did for resolution and smoothness. However, be aware of classification and regression (since here we have both) to use the suitable scoring parameter (\"accuracy\" for classification and \"Negative MSE\" for regression)"
   ]
  },
  {
   "cell_type": "markdown",
   "id": "quality-process",
   "metadata": {},
   "source": [
    "#### Func-11) Main Function (Manual Run) for CLASSIFICATION only (prediction of the presence of concealment or not)"
   ]
  },
  {
   "cell_type": "markdown",
   "id": "boolean-reward",
   "metadata": {},
   "source": [
    "#### Comment:\n",
    "The automatic running has some problems, therefore manual running will be used for now"
   ]
  },
  {
   "cell_type": "code",
   "execution_count": 14,
   "id": "ultimate-deposit",
   "metadata": {},
   "outputs": [],
   "source": [
    "def conceal_pred():\n",
    "    #First of all, decide which data type will be predicted:\n",
    "    typ=input(\"What is the data type to be predicted (audio, or video): \")\n",
    "    \n",
    "    #Then decide which algorithm will be used:\n",
    "    alg=input(\"Algorithm to be used for Classification (decisionTree, or randomForest): \")    #Ask for user input about the algorithm to be used   \n",
    "    if alg == \"decisionTree\":                 #Check the input value and accordingly apply the next steps\n",
    "        inp_data(typ)        #Prepare the dataset according to the data type (audio or video)\n",
    "        extract(typ)\n",
    "        classif(typ)          #Prepare the dataset (by removing certain)in order to proceed with classification\n",
    "        \n",
    "        print(f\"We are using {alg} algorithm\")\n",
    "        #outlier=input(\"Do you want to exctract outliers(yes or no): \")\n",
    "        feat=input(\"Do you want to do feature selection (yes or no): \")\n",
    "\n",
    "        if feat == \"yes\":              \n",
    "                feat_val=input(\"Which feature selection method do you want to use (ExtraTree, InfoGain, corrCoeff, anova_f): \")\n",
    "                feat_sel(feat_val)   #This is the first application of the feature selection to the Classification method           \n",
    "                dec_tree_class(typ)\n",
    "                print(\"END of DecisionTree Classifier execution\")\n",
    "                \n",
    "                \n",
    "                    \n",
    "        else:\n",
    "            dec_tree_class(typ)\n",
    "            print(\"END of DecisionTree Classifier execution\")\n",
    "    \n",
    "    \n",
    "    elif alg == \"randomForest\":\n",
    "        inp_data(typ)        #Prepare the dataset according to the data type (audio or video)\n",
    "        extract(typ)\n",
    "        classif(typ)          #Prepare the dataset (by removing certain)in order to proceed with classification\n",
    "        \n",
    "        print(f\"We are using {alg} algorithm\")\n",
    "        #outlier=input(\"Do you want to exctract outliers(yes or no): \")\n",
    "        feat=input(\"Do you want to do feature selection (yes or no): \")\n",
    "\n",
    "        if feat == \"yes\":\n",
    "            feat_val=input(\"Which feature selection method do you want to use (ExtraTree, InfoGain, corrCoeff, anova_f ): \")\n",
    "            feat_sel(feat_val)   #This is the first application to the Classification method           \n",
    "            rand_for_class(typ)\n",
    "            print(\"END of Random Forest execution\")\n",
    "            \n",
    "                    \n",
    "        else:\n",
    "            dec_tree_class(typ)\n",
    "            print(\"END of Random Forest execution\")\n",
    "           "
   ]
  },
  {
   "cell_type": "markdown",
   "id": "appropriate-trace",
   "metadata": {},
   "source": [
    "#### Func-11) Main Function (Manual Run) for both CLASSIFICATION and REGRESSION (will be used when extending to REGRESSION as well ) "
   ]
  },
  {
   "cell_type": "code",
   "execution_count": 15,
   "id": "adolescent-burton",
   "metadata": {},
   "outputs": [
    {
     "data": {
      "text/plain": [
       "'\\ndef conceal_pred():\\n    #First of all, decide which data type will be predicted:\\n    typ=input(\"What is the data type to be predicted (audio, or video): \")\\n    \\n    #Then decide which algorithm will be used:\\n    alg=input(\"Algorithm to be used for Classification (decisionTree, or randomForest): \")    #Ask for user input about the algorithm to be used   \\n    if alg == \"decisionTree\":                 #Check the input value and accordingly apply the next steps\\n        inp_data(typ)        #Prepare the dataset according to the data type (audio or video)\\n        extract(typ)\\n        classif(typ)          #Prepare the dataset (by removing certain)in order to proceed with classification\\n        \\n        print(f\"We are using {alg} algorithm\")\\n        #outlier=input(\"Do you want to exctract outliers(yes or no): \")\\n        feat=input(\"Do you want to do feature selection (yes or no): \")\\n\\n        if feat == \"yes\":              \\n                feat_val=input(\"Which feature selection method do you want to use (ExtraTree, InfoGain, corrCoeff, anova_f): \")\\n                feat_sel(feat_val)   #This is the first application of the feature selection to the Classification method           \\n                dec_tree_class(typ)\\n                print(\"END of DecisionTree Classifier execution\")\\n                \\n                regr(typ)\\n                regre_inp_data(typ)\\n                # feat_sel(feat_val, typ, \"reg\")       #This is the second application of the feature selection to the Regression method\\n                alg_1=input(\"Algorithm to be used for Regression (decisionTree, randomForest): \")    #Ask for user input \\n                if alg_1==\"decisionTree\":\\n                    dec_tree_reg()\\n                    \\n                elif alg_1==\"randomForest\":\\n                    rand_for_reg()\\n                \\n                    \\n        else:\\n            dec_tree_class(typ)\\n            print(\"END of DecisionTree Classifier execution\")\\n            \\n            regr(typ)\\n            regre_inp_data(typ)\\n            alg_1=input(\"Algorithm to be used(decisionTree, xgboost, randomForest): \")    #Ask for user input \\n            if alg_1==\"decisionTree\":\\n                dec_tree_reg()\\n                \\n            elif alg_1==\"randomForest\":\\n                rand_for_reg()\\n    \\n    \\n    elif alg == \"randomForest\":\\n        inp_data(typ)        #Prepare the dataset according to the data type (audio or video)\\n        extract(typ)\\n        classif(typ)          #Prepare the dataset (by removing certain)in order to proceed with classification\\n        \\n        print(f\"We are using {alg} algorithm\")\\n        #outlier=input(\"Do you want to exctract outliers(yes or no): \")\\n        feat=input(\"Do you want to do feature selection (yes or no): \")\\n\\n        if feat == \"yes\":\\n            feat_val=input(\"Which feature selection method do you want to use (ExtraTree, InfoGain, corrCoeff, anova_f ): \")\\n            feat_sel(feat_val)   #This is the first application to the Classification method           \\n            rand_for_class(typ)\\n            print(\"END of Random Forest execution\")\\n            \\n            regr(typ)\\n            regre_inp_data(typ)\\n            #feat_sel(feat_val, typ, \"reg\")       #This is the second application to the Regression method\\n            alg_1=input(\"Algorithm to be used for Regression (decisionTree, xgboost, randomForest): \")    #Ask for user input \\n            if alg_1==\"decisionTree\":\\n                dec_tree_reg()\\n                    \\n            elif alg_1==\"randomForest\":\\n                rand_for_reg()\\n            \\n                    \\n        else:\\n            dec_tree_class(typ)\\n            print(\"END of Random Forest execution\")\\n            \\n            regr(typ)\\n            regre_inp_data(typ)\\n            alg_1=input(\"Algorithm to be used(decisionTree, xgboost, randomForest): \")    #Ask for user input \\n            if alg_1==\"decisionTree\":\\n                dec_tree_reg()\\n                \\n            elif alg_1==\"randomForest\":\\n                rand_for_reg()\\n    \\n'"
      ]
     },
     "execution_count": 15,
     "metadata": {},
     "output_type": "execute_result"
    }
   ],
   "source": [
    "'''\n",
    "def conceal_pred():\n",
    "    #First of all, decide which data type will be predicted:\n",
    "    typ=input(\"What is the data type to be predicted (audio, or video): \")\n",
    "    \n",
    "    #Then decide which algorithm will be used:\n",
    "    alg=input(\"Algorithm to be used for Classification (decisionTree, or randomForest): \")    #Ask for user input about the algorithm to be used   \n",
    "    if alg == \"decisionTree\":                 #Check the input value and accordingly apply the next steps\n",
    "        inp_data(typ)        #Prepare the dataset according to the data type (audio or video)\n",
    "        extract(typ)\n",
    "        classif(typ)          #Prepare the dataset (by removing certain)in order to proceed with classification\n",
    "        \n",
    "        print(f\"We are using {alg} algorithm\")\n",
    "        #outlier=input(\"Do you want to exctract outliers(yes or no): \")\n",
    "        feat=input(\"Do you want to do feature selection (yes or no): \")\n",
    "\n",
    "        if feat == \"yes\":              \n",
    "                feat_val=input(\"Which feature selection method do you want to use (ExtraTree, InfoGain, corrCoeff, anova_f): \")\n",
    "                feat_sel(feat_val)   #This is the first application of the feature selection to the Classification method           \n",
    "                dec_tree_class(typ)\n",
    "                print(\"END of DecisionTree Classifier execution\")\n",
    "                \n",
    "                regr(typ)\n",
    "                regre_inp_data(typ)\n",
    "                # feat_sel(feat_val, typ, \"reg\")       #This is the second application of the feature selection to the Regression method\n",
    "                alg_1=input(\"Algorithm to be used for Regression (decisionTree, randomForest): \")    #Ask for user input \n",
    "                if alg_1==\"decisionTree\":\n",
    "                    dec_tree_reg()\n",
    "                    \n",
    "                elif alg_1==\"randomForest\":\n",
    "                    rand_for_reg()\n",
    "                \n",
    "                    \n",
    "        else:\n",
    "            dec_tree_class(typ)\n",
    "            print(\"END of DecisionTree Classifier execution\")\n",
    "            \n",
    "            regr(typ)\n",
    "            regre_inp_data(typ)\n",
    "            alg_1=input(\"Algorithm to be used(decisionTree, xgboost, randomForest): \")    #Ask for user input \n",
    "            if alg_1==\"decisionTree\":\n",
    "                dec_tree_reg()\n",
    "                \n",
    "            elif alg_1==\"randomForest\":\n",
    "                rand_for_reg()\n",
    "    \n",
    "    \n",
    "    elif alg == \"randomForest\":\n",
    "        inp_data(typ)        #Prepare the dataset according to the data type (audio or video)\n",
    "        extract(typ)\n",
    "        classif(typ)          #Prepare the dataset (by removing certain)in order to proceed with classification\n",
    "        \n",
    "        print(f\"We are using {alg} algorithm\")\n",
    "        #outlier=input(\"Do you want to exctract outliers(yes or no): \")\n",
    "        feat=input(\"Do you want to do feature selection (yes or no): \")\n",
    "\n",
    "        if feat == \"yes\":\n",
    "            feat_val=input(\"Which feature selection method do you want to use (ExtraTree, InfoGain, corrCoeff, anova_f ): \")\n",
    "            feat_sel(feat_val)   #This is the first application to the Classification method           \n",
    "            rand_for_class(typ)\n",
    "            print(\"END of Random Forest execution\")\n",
    "            \n",
    "            regr(typ)\n",
    "            regre_inp_data(typ)\n",
    "            #feat_sel(feat_val, typ, \"reg\")       #This is the second application to the Regression method\n",
    "            alg_1=input(\"Algorithm to be used for Regression (decisionTree, xgboost, randomForest): \")    #Ask for user input \n",
    "            if alg_1==\"decisionTree\":\n",
    "                dec_tree_reg()\n",
    "                    \n",
    "            elif alg_1==\"randomForest\":\n",
    "                rand_for_reg()\n",
    "            \n",
    "                    \n",
    "        else:\n",
    "            dec_tree_class(typ)\n",
    "            print(\"END of Random Forest execution\")\n",
    "            \n",
    "            regr(typ)\n",
    "            regre_inp_data(typ)\n",
    "            alg_1=input(\"Algorithm to be used(decisionTree, xgboost, randomForest): \")    #Ask for user input \n",
    "            if alg_1==\"decisionTree\":\n",
    "                dec_tree_reg()\n",
    "                \n",
    "            elif alg_1==\"randomForest\":\n",
    "                rand_for_reg()\n",
    "    \n",
    "'''"
   ]
  },
  {
   "cell_type": "code",
   "execution_count": null,
   "id": "neutral-decrease",
   "metadata": {},
   "outputs": [],
   "source": []
  },
  {
   "cell_type": "markdown",
   "id": "great-progressive",
   "metadata": {},
   "source": [
    "#### AUDIO"
   ]
  },
  {
   "cell_type": "code",
   "execution_count": 23,
   "id": "paperback-cheat",
   "metadata": {},
   "outputs": [
    {
     "name": "stdin",
     "output_type": "stream",
     "text": [
      "What is the data type to be predicted (audio, or video):  video\n",
      "Algorithm to be used for Classification (decisionTree, or randomForest):  decisionTree\n"
     ]
    },
    {
     "name": "stdout",
     "output_type": "stream",
     "text": [
      "\n",
      " We're doing the extraction process\n"
     ]
    },
    {
     "name": "stdin",
     "output_type": "stream",
     "text": [
      "Do you want 2 groups (0s and 1s) or 3 groups (0s, positives and negative):  2\n"
     ]
    },
    {
     "name": "stdout",
     "output_type": "stream",
     "text": [
      "We are using decisionTree algorithm\n"
     ]
    },
    {
     "name": "stdin",
     "output_type": "stream",
     "text": [
      "Do you want to do feature selection (yes or no):  yes\n",
      "Which feature selection method do you want to use (ExtraTree, InfoGain, corrCoeff, anova_f):  anova_f\n"
     ]
    },
    {
     "name": "stdout",
     "output_type": "stream",
     "text": [
      "The feature selection method being used is anova_f\n",
      "Reduced number of features using anova_f method: (98468, 30)\n",
      "[[34313  1145]\n",
      " [  970   307]]\n",
      "              precision    recall  f1-score   support\n",
      "\n",
      "         0.0       0.97      0.97      0.97     35458\n",
      "         1.0       0.21      0.24      0.22      1277\n",
      "\n",
      "    accuracy                           0.94     36735\n",
      "   macro avg       0.59      0.60      0.60     36735\n",
      "weighted avg       0.95      0.94      0.94     36735\n",
      "\n",
      "Accuracy score is: 0.9424254797876684\n",
      "END of DecisionTree Classifier execution\n"
     ]
    },
    {
     "data": {
      "image/png": "[encoded data removed]",
      "text/plain": [
       "<Figure size 432x288 with 2 Axes>"
      ]
     },
     "metadata": {
      "needs_background": "light"
     },
     "output_type": "display_data"
    }
   ],
   "source": [
    "conceal_pred() #Decision Tree with no additional method"
   ]
  },
  {
   "cell_type": "code",
   "execution_count": null,
   "id": "material-pierre",
   "metadata": {},
   "outputs": [],
   "source": []
  },
  {
   "cell_type": "code",
   "execution_count": 34,
   "id": "simple-persian",
   "metadata": {},
   "outputs": [
    {
     "name": "stdin",
     "output_type": "stream",
     "text": [
      "What is the data type to be predicted (audio, or video):  audio\n",
      "Algorithm to be used for Classification (decisionTree, or randomForest):  decisionTree\n"
     ]
    },
    {
     "name": "stdout",
     "output_type": "stream",
     "text": [
      "\n",
      " We're doing the extraction process\n",
      "We are using decisionTree algorithm\n"
     ]
    },
    {
     "name": "stdin",
     "output_type": "stream",
     "text": [
      "Do you want to do feature selection (yes or no):  yes\n",
      "Which feature selection method do you want to use (ExtraTree, InfoGain, corrCoeff, anova_f):  InfoGain\n"
     ]
    },
    {
     "name": "stdout",
     "output_type": "stream",
     "text": [
      "[[29197  3128]\n",
      " [ 3226  1398]]\n",
      "              precision    recall  f1-score   support\n",
      "\n",
      "         0.0       0.90      0.90      0.90     32325\n",
      "         1.0       0.31      0.30      0.31      4624\n",
      "\n",
      "    accuracy                           0.83     36949\n",
      "   macro avg       0.60      0.60      0.60     36949\n",
      "weighted avg       0.83      0.83      0.83     36949\n",
      "\n",
      "Accuracy score is: 0.828033234999594\n",
      "END of DecisionTree Classifier execution\n"
     ]
    },
    {
     "data": {
      "image/png": "[encoded data removed]",
      "text/plain": [
       "<Figure size 432x288 with 2 Axes>"
      ]
     },
     "metadata": {
      "needs_background": "light"
     },
     "output_type": "display_data"
    }
   ],
   "source": [
    "conceal_pred() #Decision Tree and InfoGain method"
   ]
  },
  {
   "cell_type": "code",
   "execution_count": 35,
   "id": "homeless-charlotte",
   "metadata": {},
   "outputs": [
    {
     "name": "stdin",
     "output_type": "stream",
     "text": [
      "What is the data type to be predicted (audio, or video):  audio\n",
      "Algorithm to be used for Classification (decisionTree, or randomForest):  decisionTree\n"
     ]
    },
    {
     "name": "stdout",
     "output_type": "stream",
     "text": [
      "\n",
      " We're doing the extraction process\n",
      "We are using decisionTree algorithm\n"
     ]
    },
    {
     "name": "stdin",
     "output_type": "stream",
     "text": [
      "Do you want to do feature selection (yes or no):  yes\n",
      "Which feature selection method do you want to use (ExtraTree, InfoGain, corrCoeff, anova_f):  anova_f\n"
     ]
    },
    {
     "name": "stdout",
     "output_type": "stream",
     "text": [
      "The feature selection method being used is anova_f\n",
      "Reduced number of features using anova_f method: (80017, 30)\n",
      "[[29313  3012]\n",
      " [ 3329  1295]]\n",
      "              precision    recall  f1-score   support\n",
      "\n",
      "         0.0       0.90      0.91      0.90     32325\n",
      "         1.0       0.30      0.28      0.29      4624\n",
      "\n",
      "    accuracy                           0.83     36949\n",
      "   macro avg       0.60      0.59      0.60     36949\n",
      "weighted avg       0.82      0.83      0.83     36949\n",
      "\n",
      "Accuracy score is: 0.8283850713145146\n",
      "END of DecisionTree Classifier execution\n"
     ]
    },
    {
     "data": {
      "image/png": "[encoded data removed]",
      "text/plain": [
       "<Figure size 432x288 with 2 Axes>"
      ]
     },
     "metadata": {
      "needs_background": "light"
     },
     "output_type": "display_data"
    }
   ],
   "source": [
    "conceal_pred() #Decision Tree and Annova-f value method"
   ]
  },
  {
   "cell_type": "code",
   "execution_count": 230,
   "id": "tribal-contractor",
   "metadata": {},
   "outputs": [
    {
     "name": "stdin",
     "output_type": "stream",
     "text": [
      "What is the data type to be predicted (audio, or video):  audio\n",
      "Algorithm to be used for Classification (decisionTree, or randomForest):  randomForest\n"
     ]
    },
    {
     "name": "stdout",
     "output_type": "stream",
     "text": [
      "\n",
      " We're doing the extraction process\n",
      "We are using randomForest algorithm\n"
     ]
    },
    {
     "name": "stdin",
     "output_type": "stream",
     "text": [
      "Do you want to do feature selection (yes or no):  yes\n",
      "Which feature selection method do you want to use (ExtraTree, InfoGain, corrCoeff, anova_f ):  ExtraTree\n"
     ]
    },
    {
     "name": "stdout",
     "output_type": "stream",
     "text": [
      "The feature selection method being used is ExtraTree\n",
      "Reduced number of features after ExtraTree selection method: (80017, 35)\n",
      "[[31852   473]\n",
      " [ 3690   934]]\n",
      "              precision    recall  f1-score   support\n",
      "\n",
      "         0.0       0.90      0.99      0.94     32325\n",
      "         1.0       0.66      0.20      0.31      4624\n",
      "\n",
      "    accuracy                           0.89     36949\n",
      "   macro avg       0.78      0.59      0.62     36949\n",
      "weighted avg       0.87      0.89      0.86     36949\n",
      "\n",
      "Accuracy score is: 0.8873311862296679\n",
      "END of Random Forest execution\n"
     ]
    },
    {
     "data": {
      "image/png": "[encoded data removed]",
      "text/plain": [
       "<Figure size 432x288 with 2 Axes>"
      ]
     },
     "metadata": {
      "needs_background": "light"
     },
     "output_type": "display_data"
    }
   ],
   "source": [
    "conceal_pred() #Random Forest and ExtraTree method"
   ]
  },
  {
   "cell_type": "code",
   "execution_count": 231,
   "id": "registered-southwest",
   "metadata": {},
   "outputs": [
    {
     "name": "stdin",
     "output_type": "stream",
     "text": [
      "What is the data type to be predicted (audio, or video):  audio\n",
      "Algorithm to be used for Classification (decisionTree, or randomForest):  randomForest\n"
     ]
    },
    {
     "name": "stdout",
     "output_type": "stream",
     "text": [
      "\n",
      " We're doing the extraction process\n",
      "We are using randomForest algorithm\n"
     ]
    },
    {
     "name": "stdin",
     "output_type": "stream",
     "text": [
      "Do you want to do feature selection (yes or no):  yes\n",
      "Which feature selection method do you want to use (ExtraTree, InfoGain, corrCoeff, anova_f ):  anova_f\n"
     ]
    },
    {
     "name": "stdout",
     "output_type": "stream",
     "text": [
      "The feature selection method being used is anova_f\n",
      "Reduced number of features using anova_f method: (80017, 30)\n",
      "[[31862   463]\n",
      " [ 3566  1058]]\n",
      "              precision    recall  f1-score   support\n",
      "\n",
      "         0.0       0.90      0.99      0.94     32325\n",
      "         1.0       0.70      0.23      0.34      4624\n",
      "\n",
      "    accuracy                           0.89     36949\n",
      "   macro avg       0.80      0.61      0.64     36949\n",
      "weighted avg       0.87      0.89      0.87     36949\n",
      "\n",
      "Accuracy score is: 0.8909578067065415\n",
      "END of Random Forest execution\n"
     ]
    },
    {
     "data": {
      "image/png": "[encoded data removed]",
      "text/plain": [
       "<Figure size 432x288 with 2 Axes>"
      ]
     },
     "metadata": {
      "needs_background": "light"
     },
     "output_type": "display_data"
    }
   ],
   "source": [
    "conceal_pred()   #RandomForest and annova-F method"
   ]
  },
  {
   "cell_type": "code",
   "execution_count": 232,
   "id": "secure-telling",
   "metadata": {},
   "outputs": [
    {
     "name": "stdin",
     "output_type": "stream",
     "text": [
      "What is the data type to be predicted (audio, or video):  audio\n",
      "Algorithm to be used for Classification (decisionTree, or randomForest):  randomForest\n"
     ]
    },
    {
     "name": "stdout",
     "output_type": "stream",
     "text": [
      "\n",
      " We're doing the extraction process\n",
      "We are using randomForest algorithm\n"
     ]
    },
    {
     "name": "stdin",
     "output_type": "stream",
     "text": [
      "Do you want to do feature selection (yes or no):  yes\n",
      "Which feature selection method do you want to use (ExtraTree, InfoGain, corrCoeff, anova_f ):  corrCoeff\n"
     ]
    },
    {
     "name": "stdout",
     "output_type": "stream",
     "text": [
      "The feature selection method being used is corrCoeff\n",
      "Reduced number of features after corrCoeff selection method: (80017, 35)\n",
      "[[31892   433]\n",
      " [ 3678   946]]\n",
      "              precision    recall  f1-score   support\n",
      "\n",
      "         0.0       0.90      0.99      0.94     32325\n",
      "         1.0       0.69      0.20      0.32      4624\n",
      "\n",
      "    accuracy                           0.89     36949\n",
      "   macro avg       0.79      0.60      0.63     36949\n",
      "weighted avg       0.87      0.89      0.86     36949\n",
      "\n",
      "Accuracy score is: 0.8887385314893502\n",
      "END of Random Forest execution\n"
     ]
    },
    {
     "data": {
      "image/png": "[encoded data removed]",
      "text/plain": [
       "<Figure size 432x288 with 2 Axes>"
      ]
     },
     "metadata": {
      "needs_background": "light"
     },
     "output_type": "display_data"
    }
   ],
   "source": [
    "conceal_pred()     #RandomForest and correlation coefficient method"
   ]
  },
  {
   "cell_type": "code",
   "execution_count": 33,
   "id": "former-consortium",
   "metadata": {},
   "outputs": [
    {
     "name": "stdin",
     "output_type": "stream",
     "text": [
      "What is the data type to be predicted (audio, or video):  audio\n",
      "Algorithm to be used for Classification (decisionTree, or randomForest):  randomForest\n"
     ]
    },
    {
     "name": "stdout",
     "output_type": "stream",
     "text": [
      "\n",
      " We're doing the extraction process\n",
      "We are using randomForest algorithm\n"
     ]
    },
    {
     "name": "stdin",
     "output_type": "stream",
     "text": [
      "Do you want to do feature selection (yes or no):  yes\n",
      "Which feature selection method do you want to use (ExtraTree, InfoGain, corrCoeff, anova_f ):  InfoGain\n"
     ]
    },
    {
     "name": "stdout",
     "output_type": "stream",
     "text": [
      "[[31850   475]\n",
      " [ 3568  1056]]\n",
      "              precision    recall  f1-score   support\n",
      "\n",
      "         0.0       0.90      0.99      0.94     32325\n",
      "         1.0       0.69      0.23      0.34      4624\n",
      "\n",
      "    accuracy                           0.89     36949\n",
      "   macro avg       0.79      0.61      0.64     36949\n",
      "weighted avg       0.87      0.89      0.87     36949\n",
      "\n",
      "Accuracy score is: 0.8905789060597039\n",
      "END of Random Forest execution\n"
     ]
    },
    {
     "data": {
      "image/png": "[encoded data removed]",
      "text/plain": [
       "<Figure size 432x288 with 2 Axes>"
      ]
     },
     "metadata": {
      "needs_background": "light"
     },
     "output_type": "display_data"
    }
   ],
   "source": [
    "conceal_pred()     #RandomForest and InfoGain method"
   ]
  },
  {
   "cell_type": "markdown",
   "id": "exterior-crazy",
   "metadata": {},
   "source": [
    "#### VIDEO"
   ]
  },
  {
   "cell_type": "code",
   "execution_count": 36,
   "id": "incredible-reflection",
   "metadata": {},
   "outputs": [
    {
     "name": "stdin",
     "output_type": "stream",
     "text": [
      "What is the data type to be predicted (audio, or video):  video\n",
      "Algorithm to be used for Classification (decisionTree, or randomForest):  decisionTree\n"
     ]
    },
    {
     "name": "stdout",
     "output_type": "stream",
     "text": [
      "\n",
      " We're doing the extraction process\n"
     ]
    },
    {
     "name": "stdin",
     "output_type": "stream",
     "text": [
      "Do you want 2 groups (0s and 1s) or 3 groups (0s, positives and negative):  3\n"
     ]
    },
    {
     "name": "stdout",
     "output_type": "stream",
     "text": [
      "We are using decisionTree algorithm\n"
     ]
    },
    {
     "name": "stdin",
     "output_type": "stream",
     "text": [
      "Do you want to do feature selection (yes or no):  yes\n",
      "Which feature selection method do you want to use (ExtraTree, InfoGain, corrCoeff, anova_f):  InfoGain\n"
     ]
    },
    {
     "name": "stdout",
     "output_type": "stream",
     "text": [
      "[[    0    24     4]\n",
      " [    9 34679   770]\n",
      " [    1   456    77]]\n",
      "              precision    recall  f1-score   support\n",
      "\n",
      "        -1.0       0.00      0.00      0.00        28\n",
      "         0.0       0.99      0.98      0.98     35458\n",
      "         1.0       0.09      0.14      0.11       534\n",
      "\n",
      "    accuracy                           0.96     36020\n",
      "   macro avg       0.36      0.37      0.36     36020\n",
      "weighted avg       0.97      0.96      0.97     36020\n",
      "\n",
      "Accuracy score is: 0.9649083842309828\n",
      "END of DecisionTree Classifier execution\n"
     ]
    },
    {
     "data": {
      "image/png": "[encoded data removed]",
      "text/plain": [
       "<Figure size 432x288 with 2 Axes>"
      ]
     },
     "metadata": {
      "needs_background": "light"
     },
     "output_type": "display_data"
    }
   ],
   "source": [
    "conceal_pred()          #DecTree, 3 groups, InfoGain method"
   ]
  },
  {
   "cell_type": "code",
   "execution_count": 37,
   "id": "small-praise",
   "metadata": {},
   "outputs": [
    {
     "name": "stdin",
     "output_type": "stream",
     "text": [
      "What is the data type to be predicted (audio, or video):  video\n",
      "Algorithm to be used for Classification (decisionTree, or randomForest):  decisionTree\n"
     ]
    },
    {
     "name": "stdout",
     "output_type": "stream",
     "text": [
      "\n",
      " We're doing the extraction process\n"
     ]
    },
    {
     "name": "stdin",
     "output_type": "stream",
     "text": [
      "Do you want 2 groups (0s and 1s) or 3 groups (0s, positives and negative):  2\n"
     ]
    },
    {
     "name": "stdout",
     "output_type": "stream",
     "text": [
      "We are using decisionTree algorithm\n"
     ]
    },
    {
     "name": "stdin",
     "output_type": "stream",
     "text": [
      "Do you want to do feature selection (yes or no):  yes\n",
      "Which feature selection method do you want to use (ExtraTree, InfoGain, corrCoeff, anova_f):  InfoGain\n"
     ]
    },
    {
     "name": "stdout",
     "output_type": "stream",
     "text": [
      "[[34287  1171]\n",
      " [ 1010   267]]\n",
      "              precision    recall  f1-score   support\n",
      "\n",
      "         0.0       0.97      0.97      0.97     35458\n",
      "         1.0       0.19      0.21      0.20      1277\n",
      "\n",
      "    accuracy                           0.94     36735\n",
      "   macro avg       0.58      0.59      0.58     36735\n",
      "weighted avg       0.94      0.94      0.94     36735\n",
      "\n",
      "Accuracy score is: 0.9406288280930992\n",
      "END of DecisionTree Classifier execution\n"
     ]
    },
    {
     "data": {
      "image/png": "[encoded data removed]",
      "text/plain": [
       "<Figure size 432x288 with 2 Axes>"
      ]
     },
     "metadata": {
      "needs_background": "light"
     },
     "output_type": "display_data"
    }
   ],
   "source": [
    "conceal_pred()          #DecTree, 2 groups, InfoGain method"
   ]
  },
  {
   "cell_type": "code",
   "execution_count": 38,
   "id": "administrative-background",
   "metadata": {},
   "outputs": [
    {
     "name": "stdin",
     "output_type": "stream",
     "text": [
      "What is the data type to be predicted (audio, or video):  video\n",
      "Algorithm to be used for Classification (decisionTree, or randomForest):  decisionTree\n"
     ]
    },
    {
     "name": "stdout",
     "output_type": "stream",
     "text": [
      "\n",
      " We're doing the extraction process\n"
     ]
    },
    {
     "name": "stdin",
     "output_type": "stream",
     "text": [
      "Do you want 2 groups (0s and 1s) or 3 groups (0s, positives and negative):  3\n"
     ]
    },
    {
     "name": "stdout",
     "output_type": "stream",
     "text": [
      "We are using decisionTree algorithm\n"
     ]
    },
    {
     "name": "stdin",
     "output_type": "stream",
     "text": [
      "Do you want to do feature selection (yes or no):  yes\n",
      "Which feature selection method do you want to use (ExtraTree, InfoGain, corrCoeff, anova_f):  anova_f\n"
     ]
    },
    {
     "name": "stdout",
     "output_type": "stream",
     "text": [
      "The feature selection method being used is anova_f\n",
      "Reduced number of features using anova_f method: (94676, 30)\n",
      "[[    1    26     1]\n",
      " [    9 34851   598]\n",
      " [    2   457    75]]\n",
      "              precision    recall  f1-score   support\n",
      "\n",
      "        -1.0       0.08      0.04      0.05        28\n",
      "         0.0       0.99      0.98      0.98     35458\n",
      "         1.0       0.11      0.14      0.12       534\n",
      "\n",
      "    accuracy                           0.97     36020\n",
      "   macro avg       0.39      0.39      0.39     36020\n",
      "weighted avg       0.97      0.97      0.97     36020\n",
      "\n",
      "Accuracy score is: 0.9696557468073292\n",
      "END of DecisionTree Classifier execution\n"
     ]
    },
    {
     "data": {
      "image/png": "[encoded data removed]",
      "text/plain": [
       "<Figure size 432x288 with 2 Axes>"
      ]
     },
     "metadata": {
      "needs_background": "light"
     },
     "output_type": "display_data"
    }
   ],
   "source": [
    "conceal_pred()          #DecTree, 3 groups, Annova f-value method"
   ]
  },
  {
   "cell_type": "code",
   "execution_count": 39,
   "id": "blind-yield",
   "metadata": {},
   "outputs": [
    {
     "name": "stdin",
     "output_type": "stream",
     "text": [
      "What is the data type to be predicted (audio, or video):  video\n",
      "Algorithm to be used for Classification (decisionTree, or randomForest):  decisionTree\n"
     ]
    },
    {
     "name": "stdout",
     "output_type": "stream",
     "text": [
      "\n",
      " We're doing the extraction process\n"
     ]
    },
    {
     "name": "stdin",
     "output_type": "stream",
     "text": [
      "Do you want 2 groups (0s and 1s) or 3 groups (0s, positives and negative):  2\n"
     ]
    },
    {
     "name": "stdout",
     "output_type": "stream",
     "text": [
      "We are using decisionTree algorithm\n"
     ]
    },
    {
     "name": "stdin",
     "output_type": "stream",
     "text": [
      "Do you want to do feature selection (yes or no):  yes\n",
      "Which feature selection method do you want to use (ExtraTree, InfoGain, corrCoeff, anova_f):  anova_f\n"
     ]
    },
    {
     "name": "stdout",
     "output_type": "stream",
     "text": [
      "The feature selection method being used is anova_f\n",
      "Reduced number of features using anova_f method: (98468, 30)\n",
      "[[34326  1132]\n",
      " [  964   313]]\n",
      "              precision    recall  f1-score   support\n",
      "\n",
      "         0.0       0.97      0.97      0.97     35458\n",
      "         1.0       0.22      0.25      0.23      1277\n",
      "\n",
      "    accuracy                           0.94     36735\n",
      "   macro avg       0.59      0.61      0.60     36735\n",
      "weighted avg       0.95      0.94      0.94     36735\n",
      "\n",
      "Accuracy score is: 0.9429426976997414\n",
      "END of DecisionTree Classifier execution\n"
     ]
    },
    {
     "data": {
      "image/png": "[encoded data removed]",
      "text/plain": [
       "<Figure size 432x288 with 2 Axes>"
      ]
     },
     "metadata": {
      "needs_background": "light"
     },
     "output_type": "display_data"
    }
   ],
   "source": [
    "conceal_pred()          #DecTree, 2 groups, Annova f-value method"
   ]
  },
  {
   "cell_type": "code",
   "execution_count": 233,
   "id": "secondary-client",
   "metadata": {},
   "outputs": [
    {
     "name": "stdin",
     "output_type": "stream",
     "text": [
      "What is the data type to be predicted (audio, or video):  video\n",
      "Algorithm to be used for Classification (decisionTree, or randomForest):  randomForest\n"
     ]
    },
    {
     "name": "stdout",
     "output_type": "stream",
     "text": [
      "\n",
      " We're doing the extraction process\n"
     ]
    },
    {
     "name": "stdin",
     "output_type": "stream",
     "text": [
      "Do you want 2 groups (0s and 1s) or 3 groups (0s, positives and negative):  2\n"
     ]
    },
    {
     "name": "stdout",
     "output_type": "stream",
     "text": [
      "We are using randomForest algorithm\n"
     ]
    },
    {
     "name": "stdin",
     "output_type": "stream",
     "text": [
      "Do you want to do feature selection (yes or no):  yes\n",
      "Which feature selection method do you want to use (ExtraTree, InfoGain, corrCoeff, anova_f ):  ExtraTree\n"
     ]
    },
    {
     "name": "stdout",
     "output_type": "stream",
     "text": [
      "The feature selection method being used is ExtraTree\n",
      "Reduced number of features after ExtraTree selection method: (98468, 35)\n",
      "[[35218   240]\n",
      " [ 1171   106]]\n",
      "              precision    recall  f1-score   support\n",
      "\n",
      "         0.0       0.97      0.99      0.98     35458\n",
      "         1.0       0.31      0.08      0.13      1277\n",
      "\n",
      "    accuracy                           0.96     36735\n",
      "   macro avg       0.64      0.54      0.56     36735\n",
      "weighted avg       0.94      0.96      0.95     36735\n",
      "\n",
      "Accuracy score is: 0.96158976452974\n",
      "END of Random Forest execution\n"
     ]
    },
    {
     "data": {
      "image/png": "[encoded data removed]",
      "text/plain": [
       "<Figure size 432x288 with 2 Axes>"
      ]
     },
     "metadata": {
      "needs_background": "light"
     },
     "output_type": "display_data"
    }
   ],
   "source": [
    "conceal_pred()          #RandomForest, 2 groups, ExtraTree method"
   ]
  },
  {
   "cell_type": "code",
   "execution_count": 234,
   "id": "undefined-scotland",
   "metadata": {},
   "outputs": [
    {
     "name": "stdin",
     "output_type": "stream",
     "text": [
      "What is the data type to be predicted (audio, or video):  video\n",
      "Algorithm to be used for Classification (decisionTree, or randomForest):  randomForest\n"
     ]
    },
    {
     "name": "stdout",
     "output_type": "stream",
     "text": [
      "\n",
      " We're doing the extraction process\n"
     ]
    },
    {
     "name": "stdin",
     "output_type": "stream",
     "text": [
      "Do you want 2 groups (0s and 1s) or 3 groups (0s, positives and negative):  3\n"
     ]
    },
    {
     "name": "stdout",
     "output_type": "stream",
     "text": [
      "We are using randomForest algorithm\n"
     ]
    },
    {
     "name": "stdin",
     "output_type": "stream",
     "text": [
      "Do you want to do feature selection (yes or no):  yes\n",
      "Which feature selection method do you want to use (ExtraTree, InfoGain, corrCoeff, anova_f ):  ExtraTree\n"
     ]
    },
    {
     "name": "stdout",
     "output_type": "stream",
     "text": [
      "The feature selection method being used is ExtraTree\n",
      "Reduced number of features after ExtraTree selection method: (94676, 35)\n",
      "[[    0    28     0]\n",
      " [    0 35391    67]\n",
      " [    0   511    23]]\n",
      "              precision    recall  f1-score   support\n",
      "\n",
      "        -1.0       0.00      0.00      0.00        28\n",
      "         0.0       0.98      1.00      0.99     35458\n",
      "         1.0       0.26      0.04      0.07       534\n",
      "\n",
      "    accuracy                           0.98     36020\n",
      "   macro avg       0.41      0.35      0.36     36020\n",
      "weighted avg       0.97      0.98      0.98     36020\n",
      "\n",
      "Accuracy score is: 0.9831760133259301\n",
      "END of Random Forest execution\n"
     ]
    },
    {
     "name": "stderr",
     "output_type": "stream",
     "text": [
      "/home/det_tesi/ygurra/.local/lib/python3.7/site-packages/sklearn/metrics/_classification.py:1248: UndefinedMetricWarning: Precision and F-score are ill-defined and being set to 0.0 in labels with no predicted samples. Use `zero_division` parameter to control this behavior.\n",
      "  _warn_prf(average, modifier, msg_start, len(result))\n",
      "/home/det_tesi/ygurra/.local/lib/python3.7/site-packages/sklearn/metrics/_classification.py:1248: UndefinedMetricWarning: Precision and F-score are ill-defined and being set to 0.0 in labels with no predicted samples. Use `zero_division` parameter to control this behavior.\n",
      "  _warn_prf(average, modifier, msg_start, len(result))\n",
      "/home/det_tesi/ygurra/.local/lib/python3.7/site-packages/sklearn/metrics/_classification.py:1248: UndefinedMetricWarning: Precision and F-score are ill-defined and being set to 0.0 in labels with no predicted samples. Use `zero_division` parameter to control this behavior.\n",
      "  _warn_prf(average, modifier, msg_start, len(result))\n"
     ]
    },
    {
     "data": {
      "image/png": "[encoded data removed]",
      "text/plain": [
       "<Figure size 432x288 with 2 Axes>"
      ]
     },
     "metadata": {
      "needs_background": "light"
     },
     "output_type": "display_data"
    }
   ],
   "source": [
    "conceal_pred()     #RandomForest, 3 groups and Extra method"
   ]
  },
  {
   "cell_type": "code",
   "execution_count": 235,
   "id": "equipped-bearing",
   "metadata": {},
   "outputs": [
    {
     "name": "stdin",
     "output_type": "stream",
     "text": [
      "What is the data type to be predicted (audio, or video):  video\n",
      "Algorithm to be used for Classification (decisionTree, or randomForest):  randomForest\n"
     ]
    },
    {
     "name": "stdout",
     "output_type": "stream",
     "text": [
      "\n",
      " We're doing the extraction process\n"
     ]
    },
    {
     "name": "stdin",
     "output_type": "stream",
     "text": [
      "Do you want 2 groups (0s and 1s) or 3 groups (0s, positives and negative):  2\n"
     ]
    },
    {
     "name": "stdout",
     "output_type": "stream",
     "text": [
      "We are using randomForest algorithm\n"
     ]
    },
    {
     "name": "stdin",
     "output_type": "stream",
     "text": [
      "Do you want to do feature selection (yes or no):  yes\n",
      "Which feature selection method do you want to use (ExtraTree, InfoGain, corrCoeff, anova_f ):  anova_f\n"
     ]
    },
    {
     "name": "stdout",
     "output_type": "stream",
     "text": [
      "The feature selection method being used is anova_f\n",
      "Reduced number of features using anova_f method: (98468, 30)\n",
      "[[35295   163]\n",
      " [ 1209    68]]\n",
      "              precision    recall  f1-score   support\n",
      "\n",
      "         0.0       0.97      1.00      0.98     35458\n",
      "         1.0       0.29      0.05      0.09      1277\n",
      "\n",
      "    accuracy                           0.96     36735\n",
      "   macro avg       0.63      0.52      0.54     36735\n",
      "weighted avg       0.94      0.96      0.95     36735\n",
      "\n",
      "Accuracy score is: 0.9626514223492582\n",
      "END of Random Forest execution\n"
     ]
    },
    {
     "data": {
      "image/png": "[encoded data removed]",
      "text/plain": [
       "<Figure size 432x288 with 2 Axes>"
      ]
     },
     "metadata": {
      "needs_background": "light"
     },
     "output_type": "display_data"
    }
   ],
   "source": [
    "conceal_pred()     #RandomForest, 2 groups and annova-f method"
   ]
  },
  {
   "cell_type": "code",
   "execution_count": 236,
   "id": "judicial-channel",
   "metadata": {},
   "outputs": [
    {
     "name": "stdin",
     "output_type": "stream",
     "text": [
      "What is the data type to be predicted (audio, or video):  video\n",
      "Algorithm to be used for Classification (decisionTree, or randomForest):  randomForest\n"
     ]
    },
    {
     "name": "stdout",
     "output_type": "stream",
     "text": [
      "\n",
      " We're doing the extraction process\n"
     ]
    },
    {
     "name": "stdin",
     "output_type": "stream",
     "text": [
      "Do you want 2 groups (0s and 1s) or 3 groups (0s, positives and negative):  3\n"
     ]
    },
    {
     "name": "stdout",
     "output_type": "stream",
     "text": [
      "We are using randomForest algorithm\n"
     ]
    },
    {
     "name": "stdin",
     "output_type": "stream",
     "text": [
      "Do you want to do feature selection (yes or no):  yes\n",
      "Which feature selection method do you want to use (ExtraTree, InfoGain, corrCoeff, anova_f ):  anova_f\n"
     ]
    },
    {
     "name": "stdout",
     "output_type": "stream",
     "text": [
      "The feature selection method being used is anova_f\n",
      "Reduced number of features using anova_f method: (94676, 30)\n",
      "[[    0    28     0]\n",
      " [    0 35387    71]\n",
      " [    0   508    26]]\n",
      "              precision    recall  f1-score   support\n",
      "\n",
      "        -1.0       0.00      0.00      0.00        28\n",
      "         0.0       0.99      1.00      0.99     35458\n",
      "         1.0       0.27      0.05      0.08       534\n",
      "\n",
      "    accuracy                           0.98     36020\n",
      "   macro avg       0.42      0.35      0.36     36020\n",
      "weighted avg       0.97      0.98      0.98     36020\n",
      "\n",
      "Accuracy score is: 0.9831482509716823\n",
      "END of Random Forest execution\n"
     ]
    },
    {
     "name": "stderr",
     "output_type": "stream",
     "text": [
      "/home/det_tesi/ygurra/.local/lib/python3.7/site-packages/sklearn/metrics/_classification.py:1248: UndefinedMetricWarning: Precision and F-score are ill-defined and being set to 0.0 in labels with no predicted samples. Use `zero_division` parameter to control this behavior.\n",
      "  _warn_prf(average, modifier, msg_start, len(result))\n",
      "/home/det_tesi/ygurra/.local/lib/python3.7/site-packages/sklearn/metrics/_classification.py:1248: UndefinedMetricWarning: Precision and F-score are ill-defined and being set to 0.0 in labels with no predicted samples. Use `zero_division` parameter to control this behavior.\n",
      "  _warn_prf(average, modifier, msg_start, len(result))\n",
      "/home/det_tesi/ygurra/.local/lib/python3.7/site-packages/sklearn/metrics/_classification.py:1248: UndefinedMetricWarning: Precision and F-score are ill-defined and being set to 0.0 in labels with no predicted samples. Use `zero_division` parameter to control this behavior.\n",
      "  _warn_prf(average, modifier, msg_start, len(result))\n"
     ]
    },
    {
     "data": {
      "image/png": "[encoded data removed]",
      "text/plain": [
       "<Figure size 432x288 with 2 Axes>"
      ]
     },
     "metadata": {
      "needs_background": "light"
     },
     "output_type": "display_data"
    }
   ],
   "source": [
    "conceal_pred()     #RandomForest, 3 groups and annova-f method"
   ]
  },
  {
   "cell_type": "code",
   "execution_count": 40,
   "id": "banned-processor",
   "metadata": {},
   "outputs": [
    {
     "name": "stdin",
     "output_type": "stream",
     "text": [
      "What is the data type to be predicted (audio, or video):  video\n",
      "Algorithm to be used for Classification (decisionTree, or randomForest):  randomForest\n"
     ]
    },
    {
     "name": "stdout",
     "output_type": "stream",
     "text": [
      "\n",
      " We're doing the extraction process\n"
     ]
    },
    {
     "name": "stdin",
     "output_type": "stream",
     "text": [
      "Do you want 2 groups (0s and 1s) or 3 groups (0s, positives and negative):  2\n"
     ]
    },
    {
     "name": "stdout",
     "output_type": "stream",
     "text": [
      "We are using randomForest algorithm\n"
     ]
    },
    {
     "name": "stdin",
     "output_type": "stream",
     "text": [
      "Do you want to do feature selection (yes or no):  yes\n",
      "Which feature selection method do you want to use (ExtraTree, InfoGain, corrCoeff, anova_f ):  InfoGain\n"
     ]
    },
    {
     "name": "stdout",
     "output_type": "stream",
     "text": [
      "[[35249   209]\n",
      " [ 1169   108]]\n",
      "              precision    recall  f1-score   support\n",
      "\n",
      "         0.0       0.97      0.99      0.98     35458\n",
      "         1.0       0.34      0.08      0.14      1277\n",
      "\n",
      "    accuracy                           0.96     36735\n",
      "   macro avg       0.65      0.54      0.56     36735\n",
      "weighted avg       0.95      0.96      0.95     36735\n",
      "\n",
      "Accuracy score is: 0.9624880903770247\n",
      "END of Random Forest execution\n"
     ]
    },
    {
     "data": {
      "image/png": "[encoded data removed]",
      "text/plain": [
       "<Figure size 432x288 with 2 Axes>"
      ]
     },
     "metadata": {
      "needs_background": "light"
     },
     "output_type": "display_data"
    }
   ],
   "source": [
    "conceal_pred()     #RandomForest, 2 groups and InfoGain method"
   ]
  },
  {
   "cell_type": "code",
   "execution_count": 41,
   "id": "atmospheric-cigarette",
   "metadata": {},
   "outputs": [
    {
     "name": "stdin",
     "output_type": "stream",
     "text": [
      "What is the data type to be predicted (audio, or video):  video\n",
      "Algorithm to be used for Classification (decisionTree, or randomForest):  randomForest\n"
     ]
    },
    {
     "name": "stdout",
     "output_type": "stream",
     "text": [
      "\n",
      " We're doing the extraction process\n"
     ]
    },
    {
     "name": "stdin",
     "output_type": "stream",
     "text": [
      "Do you want 2 groups (0s and 1s) or 3 groups (0s, positives and negative):  3\n"
     ]
    },
    {
     "name": "stdout",
     "output_type": "stream",
     "text": [
      "We are using randomForest algorithm\n"
     ]
    },
    {
     "name": "stdin",
     "output_type": "stream",
     "text": [
      "Do you want to do feature selection (yes or no):  yes\n",
      "Which feature selection method do you want to use (ExtraTree, InfoGain, corrCoeff, anova_f ):  InfoGain\n"
     ]
    },
    {
     "name": "stdout",
     "output_type": "stream",
     "text": [
      "[[    0    28     0]\n",
      " [    0 35387    71]\n",
      " [    0   501    33]]\n",
      "              precision    recall  f1-score   support\n",
      "\n",
      "        -1.0       0.00      0.00      0.00        28\n",
      "         0.0       0.99      1.00      0.99     35458\n",
      "         1.0       0.32      0.06      0.10       534\n",
      "\n",
      "    accuracy                           0.98     36020\n",
      "   macro avg       0.43      0.35      0.37     36020\n",
      "weighted avg       0.97      0.98      0.98     36020\n",
      "\n",
      "Accuracy score is: 0.9833425874514159\n",
      "END of Random Forest execution\n"
     ]
    },
    {
     "name": "stderr",
     "output_type": "stream",
     "text": [
      "/home/det_tesi/ygurra/.local/lib/python3.7/site-packages/sklearn/metrics/_classification.py:1248: UndefinedMetricWarning: Precision and F-score are ill-defined and being set to 0.0 in labels with no predicted samples. Use `zero_division` parameter to control this behavior.\n",
      "  _warn_prf(average, modifier, msg_start, len(result))\n",
      "/home/det_tesi/ygurra/.local/lib/python3.7/site-packages/sklearn/metrics/_classification.py:1248: UndefinedMetricWarning: Precision and F-score are ill-defined and being set to 0.0 in labels with no predicted samples. Use `zero_division` parameter to control this behavior.\n",
      "  _warn_prf(average, modifier, msg_start, len(result))\n",
      "/home/det_tesi/ygurra/.local/lib/python3.7/site-packages/sklearn/metrics/_classification.py:1248: UndefinedMetricWarning: Precision and F-score are ill-defined and being set to 0.0 in labels with no predicted samples. Use `zero_division` parameter to control this behavior.\n",
      "  _warn_prf(average, modifier, msg_start, len(result))\n"
     ]
    },
    {
     "data": {
      "image/png": "[encoded data removed]",
      "text/plain": [
       "<Figure size 432x288 with 2 Axes>"
      ]
     },
     "metadata": {
      "needs_background": "light"
     },
     "output_type": "display_data"
    }
   ],
   "source": [
    "conceal_pred()     #RandomForest, 3 groups and InfoGain method"
   ]
  },
  {
   "cell_type": "code",
   "execution_count": null,
   "id": "refined-hunger",
   "metadata": {},
   "outputs": [],
   "source": []
  },
  {
   "cell_type": "code",
   "execution_count": 227,
   "id": "dangerous-hartford",
   "metadata": {},
   "outputs": [
    {
     "data": {
      "text/plain": [
       " 0.0    92258\n",
       " 1.0     2374\n",
       "-1.0       44\n",
       "Name: Vid_CONCEALMENT_Present?, dtype: int64"
      ]
     },
     "execution_count": 227,
     "metadata": {},
     "output_type": "execute_result"
    }
   ],
   "source": [
    "y_train.value_counts()"
   ]
  },
  {
   "cell_type": "code",
   "execution_count": 154,
   "id": "unsigned-report",
   "metadata": {},
   "outputs": [
    {
     "data": {
      "text/plain": [
       "0.0    92258\n",
       "1.0     6210\n",
       "Name: Vid_CONCEALMENT_Present?, dtype: int64"
      ]
     },
     "execution_count": 154,
     "metadata": {},
     "output_type": "execute_result"
    }
   ],
   "source": [
    "dataFrame[\"Vid_CONCEALMENT_Present?\"].value_counts()"
   ]
  },
  {
   "cell_type": "code",
   "execution_count": 228,
   "id": "entertaining-decimal",
   "metadata": {},
   "outputs": [
    {
     "data": {
      "text/plain": [
       "94676"
      ]
     },
     "execution_count": 228,
     "metadata": {},
     "output_type": "execute_result"
    }
   ],
   "source": [
    "dataFrame[\"exact_video_concealment\"].value_counts().sum()"
   ]
  },
  {
   "cell_type": "markdown",
   "id": "portuguese-think",
   "metadata": {},
   "source": [
    "#### Comment:\n",
    "The best result for AUDIO seems to be achieved using RandomForest with Annova_f  feature selection technique."
   ]
  },
  {
   "cell_type": "code",
   "execution_count": null,
   "id": "assumed-lighter",
   "metadata": {},
   "outputs": [],
   "source": []
  },
  {
   "cell_type": "code",
   "execution_count": 53,
   "id": "headed-analysis",
   "metadata": {},
   "outputs": [
    {
     "name": "stdin",
     "output_type": "stream",
     "text": [
      "What is the data type to be predicted (audio, or video):  audio\n",
      "Algorithm to be used for Classification (decisionTree, xgboost, randomForest):  decisionTree\n"
     ]
    },
    {
     "name": "stdout",
     "output_type": "stream",
     "text": [
      "\n",
      " We're doing the extraction process\n",
      "We are using decisionTree algorithm\n"
     ]
    },
    {
     "name": "stdin",
     "output_type": "stream",
     "text": [
      "Do you want to do feature selection (yes or no):  no\n"
     ]
    },
    {
     "name": "stdout",
     "output_type": "stream",
     "text": [
      "[[29254  3071]\n",
      " [ 3226  1398]]\n",
      "              precision    recall  f1-score   support\n",
      "\n",
      "         0.0       0.90      0.90      0.90     32325\n",
      "         1.0       0.31      0.30      0.31      4624\n",
      "\n",
      "    accuracy                           0.83     36949\n",
      "   macro avg       0.61      0.60      0.61     36949\n",
      "weighted avg       0.83      0.83      0.83     36949\n",
      "\n",
      "Accuracy score is: 0.8295759019188611\n",
      "END of DecisionTree Classifier execution\n",
      "Adjusting the dataset in order to proceed with regression\n"
     ]
    },
    {
     "name": "stdin",
     "output_type": "stream",
     "text": [
      "Algorithm to be used(decisionTree, xgboost, randomForest):  decisionTree\n"
     ]
    },
    {
     "name": "stdout",
     "output_type": "stream",
     "text": [
      "R2 score is: 0.9135517804377273\n",
      "Mean Absolute Error is: 0.35393386545039907\n"
     ]
    },
    {
     "data": {
      "image/png": "[encoded data removed]",
      "text/plain": [
       "<Figure size 432x288 with 2 Axes>"
      ]
     },
     "metadata": {
      "needs_background": "light"
     },
     "output_type": "display_data"
    }
   ],
   "source": [
    "conceal_pred()"
   ]
  },
  {
   "cell_type": "code",
   "execution_count": 96,
   "id": "sixth-silence",
   "metadata": {},
   "outputs": [
    {
     "data": {
      "text/plain": [
       "35964.0"
      ]
     },
     "execution_count": 96,
     "metadata": {},
     "output_type": "execute_result"
    }
   ],
   "source": [
    "y_test.sum()"
   ]
  },
  {
   "cell_type": "code",
   "execution_count": 37,
   "id": "minor-eligibility",
   "metadata": {},
   "outputs": [
    {
     "data": {
      "text/plain": [
       " 0.0      1220\n",
       " 1.0        41\n",
       " 2.0        18\n",
       " 3.0         7\n",
       " 7.0         6\n",
       " 4.0         5\n",
       " 6.0         3\n",
       " 10.0        2\n",
       " 9.0         2\n",
       " 32.0        1\n",
       " 13.0        1\n",
       " 5.0         1\n",
       " 8.0         1\n",
       " 34.0        1\n",
       " 11.0        1\n",
       "-188.0       1\n",
       " 12.0        1\n",
       " 21.0        1\n",
       "-117.0       1\n",
       "Name: exact_video_concealment, dtype: int64"
      ]
     },
     "execution_count": 37,
     "metadata": {},
     "output_type": "execute_result"
    }
   ],
   "source": [
    "dataFrame_1[\"exact_video_concealment\"].value_counts()"
   ]
  },
  {
   "cell_type": "code",
   "execution_count": 104,
   "id": "precious-creation",
   "metadata": {},
   "outputs": [
    {
     "data": {
      "text/plain": [
       "2374"
      ]
     },
     "execution_count": 104,
     "metadata": {},
     "output_type": "execute_result"
    }
   ],
   "source": [
    "(dataFrame[\"exact_video_concealment\"]>0).sum()"
   ]
  },
  {
   "cell_type": "code",
   "execution_count": null,
   "id": "powered-rotation",
   "metadata": {},
   "outputs": [],
   "source": []
  },
  {
   "cell_type": "code",
   "execution_count": null,
   "id": "traditional-hydrogen",
   "metadata": {},
   "outputs": [],
   "source": []
  },
  {
   "cell_type": "code",
   "execution_count": null,
   "id": "immediate-republic",
   "metadata": {},
   "outputs": [],
   "source": []
  },
  {
   "cell_type": "markdown",
   "id": "automated-canberra",
   "metadata": {},
   "source": [
    "#### Func-11) Main Function AUTOMATIC RUN"
   ]
  },
  {
   "cell_type": "code",
   "execution_count": 67,
   "id": "actual-awareness",
   "metadata": {},
   "outputs": [],
   "source": [
    "def conceal_pred():\n",
    "    pred_type=[\"audio\",\"video\"]\n",
    "    for typ in pred_type:\n",
    "        \n",
    "        class_algorithms=[\"decisionTree\",\"randomForest\"]      #2 possible algorithms to be used for classification\n",
    "        for alg in class_algorithms:\n",
    "            inp_data(typ)    #Prepare the dataset according to the data type (audio or video)\n",
    "            classif(typ)     #Prepare the dataset (by removing certain missing and unsuitable data) in order to proceed with classification\n",
    "            \n",
    "            if alg == \"decisionTree\":   \n",
    "                #print(f\"We are using {alg} algorithm\")\n",
    "                #outlier=input(\"Do you want to exctract outliers(yes or no): \")\n",
    "                for feat in [\"no\",\"yes\"]:       #Usage of feature selection or not\n",
    "                    \n",
    "                    if feat == \"yes\":           #If feature selection is being used          \n",
    "                        feat_sel_meth=[\"Pearson\"]         #The list of possible feat selection methods for classification\n",
    "                        for feat_val in feat_sel_meth:\n",
    "                            feat_sel(feat_val, typ, \"class\")   #This is the first application of the feature selection to the Classification method           \n",
    "                            dec_tree_class()\n",
    "                            print(\"Done with DecisionTree Classification process\")\n",
    "                            \n",
    "                            reg_algorithm=[\"decisionTree\",\"randomForest\"]\n",
    "                            for alg_1 in reg_algorithm:\n",
    "                                extract(typ)\n",
    "                                regr(typ)\n",
    "                                regre_inp_data(typ)\n",
    "                                feat_sel(feat_val, typ, \"reg\")       #This is the second application of the feature selection to the Regression method\n",
    "                                \n",
    "                                if alg_1==\"decisionTree\":\n",
    "                                    print(f\"\\nResults after {alg} classifier and {alg_1} regressor:\")\n",
    "                                    dec_tree_reg()\n",
    "                    \n",
    "                                elif alg_1==\"randomForest\":\n",
    "                                    print(f\"\\nResults after {alg} classifier and {alg_1} regressor:\")    \n",
    "                                    rand_for_reg()\n",
    "                    \n",
    "                    else:                \n",
    "                        dec_tree_class()\n",
    "                        print(\"Done with DecisionTree Classiffication process\")\n",
    "                        \n",
    "                        reg_algorithm=[\"decisionTree\",\"randomForest\"]\n",
    "                        for alg_1 in reg_algorithm:\n",
    "                            extract(typ)\n",
    "                            regr(typ)\n",
    "                            regre_inp_data(typ)\n",
    "                            if alg_1==\"decisionTree\":\n",
    "                                print(f\"\\nResults after {alg} classifier and {alg_1} regressor:\")\n",
    "                                dec_tree_reg()\n",
    "                    \n",
    "                            elif alg_1==\"randomForest\":\n",
    "                                print(f\"\\nResults after {alg} classifier and {alg_1} regressor:\")\n",
    "                                rand_for_reg()\n",
    "    \n",
    "    \n",
    "            elif alg == \"randomForest\":                                                   #Check the input value and accordingly apply the next steps\n",
    "                print(f\"We are using {alg} algorithm\")\n",
    "                #outlier=input(\"Do you want to exctract outliers(yes or no): \")\n",
    "                for feat in [\"no\",\"yes\"]:  \n",
    "\n",
    "                    if feat == \"yes\":              \n",
    "                        feat_sel_meth=[\"Pearson\"]\n",
    "                        for feat_val in feat_sel_meth:\n",
    "                            feat_sel(feat_val, typ, \"class\")   #This is the first application of the feature selection to the Classification method           \n",
    "                            rand_for_class()\n",
    "                            #print(\"END of RandomForest Classifier execution\")\n",
    "                            extract(typ)\n",
    "                            regr(typ)\n",
    "                            regre_inp_data(typ)\n",
    "                            feat_sel(feat_val, typ, \"reg\")       #This is the second application of the feature selection to the Regression method\n",
    "                            reg_algorithm=[\"decisionTree\",\"randomForest\"]\n",
    "                            for alg_1 in reg_algorithm:\n",
    "                                if alg_1==\"decisionTree\":\n",
    "                                    print(f\"Results after {alg} classifier and {alg_1} regressor:\")\n",
    "                                    dec_tree_reg()\n",
    "                    \n",
    "                                elif alg_1==\"randomForest\":\n",
    "                                    print(f\"Results after {alg} classifier and {alg_1} regressor:\")    \n",
    "                                    rand_for_reg()\n",
    "                    \n",
    "                    else:                \n",
    "                        dec_tree_class()\n",
    "                        #print(\"END of DecisionTree Classifier execution\")\n",
    "                        extract(typ)\n",
    "                        regr(typ)\n",
    "                        reg_algorithm=[\"decisionTree\",\"randomForest\"]\n",
    "                        regre_inp_data(typ)\n",
    "                        for alg_1 in reg_algorithm:\n",
    "                            if alg_1==\"decisionTree\":\n",
    "                                print(f\"Results after {alg} classifier and {alg_1} regressor:\")\n",
    "                                dec_tree_reg()\n",
    "                    \n",
    "                            elif alg_1==\"randomForest\":\n",
    "                                print(f\"Results after {alg} classifier and {alg_1} regressor:\")\n",
    "                                rand_for_reg()\n",
    "    "
   ]
  },
  {
   "cell_type": "code",
   "execution_count": 68,
   "id": "likely-slovakia",
   "metadata": {},
   "outputs": [
    {
     "name": "stdout",
     "output_type": "stream",
     "text": [
      "[[36949]]\n",
      "              precision    recall  f1-score   support\n",
      "\n",
      "         1.0       1.00      1.00      1.00     36949\n",
      "\n",
      "    accuracy                           1.00     36949\n",
      "   macro avg       1.00      1.00      1.00     36949\n",
      "weighted avg       1.00      1.00      1.00     36949\n",
      "\n",
      "Accuracy score is: 1.0\n",
      "Done with DecisionTree Classiffication process\n",
      "\n",
      " We're doing the extraction process\n",
      "Adjusting the dataset in order to proceed with regression\n",
      "\n",
      "Results after decisionTree classifier and decisionTree regressor:\n",
      "R2 score is: 0.9997396322703287\n",
      "Mean Absolute Error is: 0.00011141130267665655\n",
      "\n",
      " We're doing the extraction process\n",
      "Adjusting the dataset in order to proceed with regression\n",
      "\n",
      "Results after decisionTree classifier and randomForest regressor:\n",
      "R2 score is: 0.9995512879659593\n",
      "Mean Absolute Error is: 0.00024301590396345757\n",
      "Mean Squared Error: 0.0002860171851934382\n",
      "Feature selection for classification is being used\n"
     ]
    },
    {
     "ename": "KeyError",
     "evalue": "\"Passing list-likes to .loc or [] with any missing labels is no longer supported. The following labels were missing: Int64Index([   319,    636,   2048,   3357,   5666,\\n            ...\\n            107569, 111565, 112564, 113563, 114562],\\n           dtype='int64', length=1218). See https://pandas.pydata.org/pandas-docs/stable/user_guide/indexing.html#deprecate-loc-reindex-listlike\"",
     "output_type": "error",
     "traceback": [
      "\u001b[0;31m---------------------------------------------------------------------------\u001b[0m",
      "\u001b[0;31mKeyError\u001b[0m                                  Traceback (most recent call last)",
      "\u001b[0;32m<ipython-input-68-7d0d00ed83cf>\u001b[0m in \u001b[0;36m<module>\u001b[0;34m\u001b[0m\n\u001b[0;32m----> 1\u001b[0;31m \u001b[0mconceal_pred\u001b[0m\u001b[0;34m(\u001b[0m\u001b[0;34m)\u001b[0m\u001b[0;34m\u001b[0m\u001b[0;34m\u001b[0m\u001b[0m\n\u001b[0m",
      "\u001b[0;32m<ipython-input-67-c638367372a7>\u001b[0m in \u001b[0;36mconceal_pred\u001b[0;34m()\u001b[0m\n\u001b[1;32m     16\u001b[0m                         \u001b[0mfeat_sel_meth\u001b[0m\u001b[0;34m=\u001b[0m\u001b[0;34m[\u001b[0m\u001b[0;34m\"Pearson\"\u001b[0m\u001b[0;34m]\u001b[0m         \u001b[0;31m#The list of possible feat selection methods for classification\u001b[0m\u001b[0;34m\u001b[0m\u001b[0;34m\u001b[0m\u001b[0m\n\u001b[1;32m     17\u001b[0m                         \u001b[0;32mfor\u001b[0m \u001b[0mfeat_val\u001b[0m \u001b[0;32min\u001b[0m \u001b[0mfeat_sel_meth\u001b[0m\u001b[0;34m:\u001b[0m\u001b[0;34m\u001b[0m\u001b[0;34m\u001b[0m\u001b[0m\n\u001b[0;32m---> 18\u001b[0;31m                             \u001b[0mfeat_sel\u001b[0m\u001b[0;34m(\u001b[0m\u001b[0mfeat_val\u001b[0m\u001b[0;34m,\u001b[0m \u001b[0mtyp\u001b[0m\u001b[0;34m,\u001b[0m \u001b[0;34m\"class\"\u001b[0m\u001b[0;34m)\u001b[0m   \u001b[0;31m#This is the first application of the feature selection to the Classification method\u001b[0m\u001b[0;34m\u001b[0m\u001b[0;34m\u001b[0m\u001b[0m\n\u001b[0m\u001b[1;32m     19\u001b[0m                             \u001b[0mdec_tree_class\u001b[0m\u001b[0;34m(\u001b[0m\u001b[0;34m)\u001b[0m\u001b[0;34m\u001b[0m\u001b[0;34m\u001b[0m\u001b[0m\n\u001b[1;32m     20\u001b[0m                             \u001b[0mprint\u001b[0m\u001b[0;34m(\u001b[0m\u001b[0;34m\"Done with DecisionTree Classification process\"\u001b[0m\u001b[0;34m)\u001b[0m\u001b[0;34m\u001b[0m\u001b[0;34m\u001b[0m\u001b[0m\n",
      "\u001b[0;32m<ipython-input-66-39b9f5b3906f>\u001b[0m in \u001b[0;36mfeat_sel\u001b[0;34m(sel_meth, dt_type, feat_sel_typ)\u001b[0m\n\u001b[1;32m     33\u001b[0m     \u001b[0my_train\u001b[0m \u001b[0;34m=\u001b[0m \u001b[0my_train\u001b[0m\u001b[0;34m.\u001b[0m\u001b[0mdropna\u001b[0m\u001b[0;34m(\u001b[0m\u001b[0;34m)\u001b[0m\u001b[0;34m\u001b[0m\u001b[0;34m\u001b[0m\u001b[0m\n\u001b[1;32m     34\u001b[0m     \u001b[0my_test\u001b[0m \u001b[0;34m=\u001b[0m \u001b[0my_test\u001b[0m\u001b[0;34m.\u001b[0m\u001b[0mdropna\u001b[0m\u001b[0;34m(\u001b[0m\u001b[0;34m)\u001b[0m\u001b[0;34m\u001b[0m\u001b[0;34m\u001b[0m\u001b[0m\n\u001b[0;32m---> 35\u001b[0;31m     \u001b[0mX_train\u001b[0m \u001b[0;34m=\u001b[0m \u001b[0mX_train\u001b[0m\u001b[0;34m.\u001b[0m\u001b[0mloc\u001b[0m\u001b[0;34m[\u001b[0m\u001b[0my_train\u001b[0m\u001b[0;34m.\u001b[0m\u001b[0mindex\u001b[0m\u001b[0;34m]\u001b[0m\u001b[0;34m\u001b[0m\u001b[0;34m\u001b[0m\u001b[0m\n\u001b[0m\u001b[1;32m     36\u001b[0m     \u001b[0mX_test\u001b[0m \u001b[0;34m=\u001b[0m \u001b[0mX_test\u001b[0m\u001b[0;34m.\u001b[0m\u001b[0mloc\u001b[0m\u001b[0;34m[\u001b[0m\u001b[0my_test\u001b[0m\u001b[0;34m.\u001b[0m\u001b[0mindex\u001b[0m\u001b[0;34m]\u001b[0m\u001b[0;34m\u001b[0m\u001b[0;34m\u001b[0m\u001b[0m\n\u001b[1;32m     37\u001b[0m \u001b[0;34m\u001b[0m\u001b[0m\n",
      "\u001b[0;32m/opt/anaconda3/envs/bigdatalab_cpu_202101/lib/python3.7/site-packages/pandas/core/indexing.py\u001b[0m in \u001b[0;36m__getitem__\u001b[0;34m(self, key)\u001b[0m\n\u001b[1;32m    877\u001b[0m \u001b[0;34m\u001b[0m\u001b[0m\n\u001b[1;32m    878\u001b[0m             \u001b[0mmaybe_callable\u001b[0m \u001b[0;34m=\u001b[0m \u001b[0mcom\u001b[0m\u001b[0;34m.\u001b[0m\u001b[0mapply_if_callable\u001b[0m\u001b[0;34m(\u001b[0m\u001b[0mkey\u001b[0m\u001b[0;34m,\u001b[0m \u001b[0mself\u001b[0m\u001b[0;34m.\u001b[0m\u001b[0mobj\u001b[0m\u001b[0;34m)\u001b[0m\u001b[0;34m\u001b[0m\u001b[0;34m\u001b[0m\u001b[0m\n\u001b[0;32m--> 879\u001b[0;31m             \u001b[0;32mreturn\u001b[0m \u001b[0mself\u001b[0m\u001b[0;34m.\u001b[0m\u001b[0m_getitem_axis\u001b[0m\u001b[0;34m(\u001b[0m\u001b[0mmaybe_callable\u001b[0m\u001b[0;34m,\u001b[0m \u001b[0maxis\u001b[0m\u001b[0;34m=\u001b[0m\u001b[0maxis\u001b[0m\u001b[0;34m)\u001b[0m\u001b[0;34m\u001b[0m\u001b[0;34m\u001b[0m\u001b[0m\n\u001b[0m\u001b[1;32m    880\u001b[0m \u001b[0;34m\u001b[0m\u001b[0m\n\u001b[1;32m    881\u001b[0m     \u001b[0;32mdef\u001b[0m \u001b[0m_is_scalar_access\u001b[0m\u001b[0;34m(\u001b[0m\u001b[0mself\u001b[0m\u001b[0;34m,\u001b[0m \u001b[0mkey\u001b[0m\u001b[0;34m:\u001b[0m \u001b[0mTuple\u001b[0m\u001b[0;34m)\u001b[0m\u001b[0;34m:\u001b[0m\u001b[0;34m\u001b[0m\u001b[0;34m\u001b[0m\u001b[0m\n",
      "\u001b[0;32m/opt/anaconda3/envs/bigdatalab_cpu_202101/lib/python3.7/site-packages/pandas/core/indexing.py\u001b[0m in \u001b[0;36m_getitem_axis\u001b[0;34m(self, key, axis)\u001b[0m\n\u001b[1;32m   1097\u001b[0m                     \u001b[0;32mraise\u001b[0m \u001b[0mValueError\u001b[0m\u001b[0;34m(\u001b[0m\u001b[0;34m\"Cannot index with multidimensional key\"\u001b[0m\u001b[0;34m)\u001b[0m\u001b[0;34m\u001b[0m\u001b[0;34m\u001b[0m\u001b[0m\n\u001b[1;32m   1098\u001b[0m \u001b[0;34m\u001b[0m\u001b[0m\n\u001b[0;32m-> 1099\u001b[0;31m                 \u001b[0;32mreturn\u001b[0m \u001b[0mself\u001b[0m\u001b[0;34m.\u001b[0m\u001b[0m_getitem_iterable\u001b[0m\u001b[0;34m(\u001b[0m\u001b[0mkey\u001b[0m\u001b[0;34m,\u001b[0m \u001b[0maxis\u001b[0m\u001b[0;34m=\u001b[0m\u001b[0maxis\u001b[0m\u001b[0;34m)\u001b[0m\u001b[0;34m\u001b[0m\u001b[0;34m\u001b[0m\u001b[0m\n\u001b[0m\u001b[1;32m   1100\u001b[0m \u001b[0;34m\u001b[0m\u001b[0m\n\u001b[1;32m   1101\u001b[0m             \u001b[0;31m# nested tuple slicing\u001b[0m\u001b[0;34m\u001b[0m\u001b[0;34m\u001b[0m\u001b[0;34m\u001b[0m\u001b[0m\n",
      "\u001b[0;32m/opt/anaconda3/envs/bigdatalab_cpu_202101/lib/python3.7/site-packages/pandas/core/indexing.py\u001b[0m in \u001b[0;36m_getitem_iterable\u001b[0;34m(self, key, axis)\u001b[0m\n\u001b[1;32m   1035\u001b[0m \u001b[0;34m\u001b[0m\u001b[0m\n\u001b[1;32m   1036\u001b[0m         \u001b[0;31m# A collection of keys\u001b[0m\u001b[0;34m\u001b[0m\u001b[0;34m\u001b[0m\u001b[0;34m\u001b[0m\u001b[0m\n\u001b[0;32m-> 1037\u001b[0;31m         \u001b[0mkeyarr\u001b[0m\u001b[0;34m,\u001b[0m \u001b[0mindexer\u001b[0m \u001b[0;34m=\u001b[0m \u001b[0mself\u001b[0m\u001b[0;34m.\u001b[0m\u001b[0m_get_listlike_indexer\u001b[0m\u001b[0;34m(\u001b[0m\u001b[0mkey\u001b[0m\u001b[0;34m,\u001b[0m \u001b[0maxis\u001b[0m\u001b[0;34m,\u001b[0m \u001b[0mraise_missing\u001b[0m\u001b[0;34m=\u001b[0m\u001b[0;32mFalse\u001b[0m\u001b[0;34m)\u001b[0m\u001b[0;34m\u001b[0m\u001b[0;34m\u001b[0m\u001b[0m\n\u001b[0m\u001b[1;32m   1038\u001b[0m         return self.obj._reindex_with_indexers(\n\u001b[1;32m   1039\u001b[0m             \u001b[0;34m{\u001b[0m\u001b[0maxis\u001b[0m\u001b[0;34m:\u001b[0m \u001b[0;34m[\u001b[0m\u001b[0mkeyarr\u001b[0m\u001b[0;34m,\u001b[0m \u001b[0mindexer\u001b[0m\u001b[0;34m]\u001b[0m\u001b[0;34m}\u001b[0m\u001b[0;34m,\u001b[0m \u001b[0mcopy\u001b[0m\u001b[0;34m=\u001b[0m\u001b[0;32mTrue\u001b[0m\u001b[0;34m,\u001b[0m \u001b[0mallow_dups\u001b[0m\u001b[0;34m=\u001b[0m\u001b[0;32mTrue\u001b[0m\u001b[0;34m\u001b[0m\u001b[0;34m\u001b[0m\u001b[0m\n",
      "\u001b[0;32m/opt/anaconda3/envs/bigdatalab_cpu_202101/lib/python3.7/site-packages/pandas/core/indexing.py\u001b[0m in \u001b[0;36m_get_listlike_indexer\u001b[0;34m(self, key, axis, raise_missing)\u001b[0m\n\u001b[1;32m   1252\u001b[0m             \u001b[0mkeyarr\u001b[0m\u001b[0;34m,\u001b[0m \u001b[0mindexer\u001b[0m\u001b[0;34m,\u001b[0m \u001b[0mnew_indexer\u001b[0m \u001b[0;34m=\u001b[0m \u001b[0max\u001b[0m\u001b[0;34m.\u001b[0m\u001b[0m_reindex_non_unique\u001b[0m\u001b[0;34m(\u001b[0m\u001b[0mkeyarr\u001b[0m\u001b[0;34m)\u001b[0m\u001b[0;34m\u001b[0m\u001b[0;34m\u001b[0m\u001b[0m\n\u001b[1;32m   1253\u001b[0m \u001b[0;34m\u001b[0m\u001b[0m\n\u001b[0;32m-> 1254\u001b[0;31m         \u001b[0mself\u001b[0m\u001b[0;34m.\u001b[0m\u001b[0m_validate_read_indexer\u001b[0m\u001b[0;34m(\u001b[0m\u001b[0mkeyarr\u001b[0m\u001b[0;34m,\u001b[0m \u001b[0mindexer\u001b[0m\u001b[0;34m,\u001b[0m \u001b[0maxis\u001b[0m\u001b[0;34m,\u001b[0m \u001b[0mraise_missing\u001b[0m\u001b[0;34m=\u001b[0m\u001b[0mraise_missing\u001b[0m\u001b[0;34m)\u001b[0m\u001b[0;34m\u001b[0m\u001b[0;34m\u001b[0m\u001b[0m\n\u001b[0m\u001b[1;32m   1255\u001b[0m         \u001b[0;32mreturn\u001b[0m \u001b[0mkeyarr\u001b[0m\u001b[0;34m,\u001b[0m \u001b[0mindexer\u001b[0m\u001b[0;34m\u001b[0m\u001b[0;34m\u001b[0m\u001b[0m\n\u001b[1;32m   1256\u001b[0m \u001b[0;34m\u001b[0m\u001b[0m\n",
      "\u001b[0;32m/opt/anaconda3/envs/bigdatalab_cpu_202101/lib/python3.7/site-packages/pandas/core/indexing.py\u001b[0m in \u001b[0;36m_validate_read_indexer\u001b[0;34m(self, key, indexer, axis, raise_missing)\u001b[0m\n\u001b[1;32m   1314\u001b[0m                 \u001b[0;32mwith\u001b[0m \u001b[0moption_context\u001b[0m\u001b[0;34m(\u001b[0m\u001b[0;34m\"display.max_seq_items\"\u001b[0m\u001b[0;34m,\u001b[0m \u001b[0;36m10\u001b[0m\u001b[0;34m,\u001b[0m \u001b[0;34m\"display.width\"\u001b[0m\u001b[0;34m,\u001b[0m \u001b[0;36m80\u001b[0m\u001b[0;34m)\u001b[0m\u001b[0;34m:\u001b[0m\u001b[0;34m\u001b[0m\u001b[0;34m\u001b[0m\u001b[0m\n\u001b[1;32m   1315\u001b[0m                     raise KeyError(\n\u001b[0;32m-> 1316\u001b[0;31m                         \u001b[0;34m\"Passing list-likes to .loc or [] with any missing labels \"\u001b[0m\u001b[0;34m\u001b[0m\u001b[0;34m\u001b[0m\u001b[0m\n\u001b[0m\u001b[1;32m   1317\u001b[0m                         \u001b[0;34m\"is no longer supported. \"\u001b[0m\u001b[0;34m\u001b[0m\u001b[0;34m\u001b[0m\u001b[0m\n\u001b[1;32m   1318\u001b[0m                         \u001b[0;34mf\"The following labels were missing: {not_found}. \"\u001b[0m\u001b[0;34m\u001b[0m\u001b[0;34m\u001b[0m\u001b[0m\n",
      "\u001b[0;31mKeyError\u001b[0m: \"Passing list-likes to .loc or [] with any missing labels is no longer supported. The following labels were missing: Int64Index([   319,    636,   2048,   3357,   5666,\\n            ...\\n            107569, 111565, 112564, 113563, 114562],\\n           dtype='int64', length=1218). See https://pandas.pydata.org/pandas-docs/stable/user_guide/indexing.html#deprecate-loc-reindex-listlike\""
     ]
    }
   ],
   "source": [
    "conceal_pred()"
   ]
  },
  {
   "cell_type": "code",
   "execution_count": null,
   "id": "refined-belief",
   "metadata": {},
   "outputs": [],
   "source": []
  },
  {
   "cell_type": "code",
   "execution_count": 21,
   "id": "gothic-quality",
   "metadata": {},
   "outputs": [
    {
     "data": {
      "image/png": "[encoded data removed]",
      "text/plain": [
       "<Figure size 432x288 with 1 Axes>"
      ]
     },
     "metadata": {
      "needs_background": "light"
     },
     "output_type": "display_data"
    }
   ],
   "source": [
    "plt.hist(y_test, bins=30)\n",
    "plt.xlabel(\"video concealment\")\n",
    "plt.ylabel(\"number of occurences\")\n",
    "plt.show()"
   ]
  },
  {
   "cell_type": "code",
   "execution_count": 20,
   "id": "excited-pitch",
   "metadata": {},
   "outputs": [
    {
     "data": {
      "text/plain": [
       " 0.0      19910\n",
       " 1.0        223\n",
       " 2.0        101\n",
       " 3.0         41\n",
       " 4.0         23\n",
       " 5.0         14\n",
       " 7.0         11\n",
       " 9.0          8\n",
       " 6.0          8\n",
       " 8.0          6\n",
       " 11.0         5\n",
       " 10.0         5\n",
       "-9.0          2\n",
       "-36.0         2\n",
       " 47.0         2\n",
       " 32.0         2\n",
       " 12.0         2\n",
       " 21.0         2\n",
       " 34.0         2\n",
       " 24.0         1\n",
       "-1.0          1\n",
       "-16.0         1\n",
       " 14.0         1\n",
       "-6.0          1\n",
       "-103.0        1\n",
       " 59.0         1\n",
       "-117.0        1\n",
       "-25.0         1\n",
       " 23.0         1\n",
       " 38.0         1\n",
       "-188.0        1\n",
       "-10.0         1\n",
       "-20.0         1\n",
       "-40.0         1\n",
       "-165.0        1\n",
       " 35.0         1\n",
       "-107.0        1\n",
       " 31.0         1\n",
       " 30.0         1\n",
       " 15.0         1\n",
       "Name: exact_video_concealment, dtype: int64"
      ]
     },
     "execution_count": 20,
     "metadata": {},
     "output_type": "execute_result"
    }
   ],
   "source": [
    "y_test.value_counts()"
   ]
  },
  {
   "cell_type": "code",
   "execution_count": null,
   "id": "likely-seventh",
   "metadata": {},
   "outputs": [],
   "source": []
  },
  {
   "cell_type": "code",
   "execution_count": 37,
   "id": "standard-penguin",
   "metadata": {},
   "outputs": [
    {
     "data": {
      "text/plain": [
       "(66417, 30)"
      ]
     },
     "execution_count": 37,
     "metadata": {},
     "output_type": "execute_result"
    }
   ],
   "source": [
    "X_train.shape"
   ]
  },
  {
   "cell_type": "markdown",
   "id": "political-costs",
   "metadata": {},
   "source": [
    "#### Question: \n",
    "Do I need to use feature selection for both: Classification and Regression ? "
   ]
  },
  {
   "cell_type": "markdown",
   "id": "confidential-helen",
   "metadata": {},
   "source": [
    "#### Audio Regression Experiment:"
   ]
  },
  {
   "cell_type": "markdown",
   "id": "august-calibration",
   "metadata": {},
   "source": [
    "##### Before we start with this technique we should notice that \"concealmentEvents\" and \"framesDropped\" fields have their concealment values in cumulative form, which means that they are sum of their previous values. In order to extract the exact values for each packet we'll follow the note below:"
   ]
  },
  {
   "cell_type": "markdown",
   "id": "chronic-invite",
   "metadata": {},
   "source": [
    "##### NOTE: Group according to the flow and pcap columns (using \"grouby\" command) and then take the difference between the current concealment value and the previous one (using .diff command) because the concealment values in both columns (\"concealmentEvents\" and \"framesDropped\") extracted from RETINA are in a cumulative form (so summed up of the previous values). By doing this we extract the exact concealment value for each packet."
   ]
  },
  {
   "cell_type": "code",
   "execution_count": null,
   "id": "similar-fault",
   "metadata": {},
   "outputs": [],
   "source": []
  }
 ],
 "metadata": {
  "kernelspec": {
   "display_name": "Python 3",
   "language": "python",
   "name": "python3"
  },
  "language_info": {
   "codemirror_mode": {
    "name": "ipython",
    "version": 3
   },
   "file_extension": ".py",
   "mimetype": "text/x-python",
   "name": "python",
   "nbconvert_exporter": "python",
   "pygments_lexer": "ipython3",
   "version": "3.7.9"
  }
 },
 "nbformat": 4,
 "nbformat_minor": 5
}
